{
 "cells": [
  {
   "cell_type": "markdown",
   "metadata": {},
   "source": [
    "                                        Flight Delay Prediction\n",
    "                                      Dataset:  https://www.bts.gov/\n",
    "                                  "
   ]
  },
  {
   "cell_type": "markdown",
   "metadata": {},
   "source": [
    "                                            "
   ]
  },
  {
   "cell_type": "markdown",
   "metadata": {},
   "source": [
    "### Summary:\n",
    "\n",
    "There have been numerous insatances of flight delays in the current air travel scenario in USA. Many airlines are incurring huge losses because of it. Any airline company would be more interested in reducing the number of delayed flights as to be in top choice for it's customers. On the other hand, a customer always tends to book an airline flight which is most likely to be on-time.\n",
    "\n",
    "For this project, our primary focus is on American Airlines(AA) where we are going to focus on top 5 origins and destinations airports for AA. \n",
    "\n",
    "The dataset used for the analysis is from Kaggel : https://www.kaggle.com/yuanyuwendymu/airline-delay-and-cancellation-data-2009-2018\n",
    "\n",
    "1. We Considered an entire year's dataset for 2017 and tried to build our ML model and then have it tasted on the        unseen dataset of 2018. \n",
    "2. We are focusing more from a cosumer point of view and try to predict the flight delay for next year which is 2018.\n",
    "3. The customer would be more concerned about the arriving delay of the flight. So, our target variable would be        predicting an arriving delay of the flight.\n",
    "4. According to FAA/DOT standards, a flighs is considered to be delayed if it surpasses the minimum threshold of        14.59 mins.\n"
   ]
  },
  {
   "cell_type": "markdown",
   "metadata": {},
   "source": [
    "### Importing Required libraries"
   ]
  },
  {
   "cell_type": "code",
   "execution_count": null,
   "metadata": {},
   "outputs": [],
   "source": [
    "import pandas as pd\n",
    "import numpy as np\n",
    "from datetime import timedelta as dt\n",
    "import math\n",
    "from matplotlib import pyplot as plt\n",
    "import seaborn as sns\n",
    "from matplotlib import pyplot\n",
    "from matplotlib.pyplot import figure\n",
    "import warnings\n",
    "import math\n",
    "from scipy.stats import norm\n",
    "warnings.filterwarnings(\"ignore\")"
   ]
  },
  {
   "cell_type": "markdown",
   "metadata": {},
   "source": [
    "### Data Import "
   ]
  },
  {
   "cell_type": "code",
   "execution_count": 2,
   "metadata": {},
   "outputs": [],
   "source": [
    "df2017 = pd.read_csv('2017.csv') #reading all the data for year 2017\n",
    "df2018 = pd.read_csv('2018.csv') #reading all the data for year 2018"
   ]
  },
  {
   "cell_type": "code",
   "execution_count": 3,
   "metadata": {},
   "outputs": [
    {
     "name": "stdout",
     "output_type": "stream",
     "text": [
      "Shape : (5674621, 28)\n"
     ]
    }
   ],
   "source": [
    "print(\"Shape :\", df2017.shape) #Checking the shape of the dataset at hand"
   ]
  },
  {
   "cell_type": "code",
   "execution_count": 4,
   "metadata": {},
   "outputs": [
    {
     "data": {
      "text/html": [
       "<div>\n",
       "<style scoped>\n",
       "    .dataframe tbody tr th:only-of-type {\n",
       "        vertical-align: middle;\n",
       "    }\n",
       "\n",
       "    .dataframe tbody tr th {\n",
       "        vertical-align: top;\n",
       "    }\n",
       "\n",
       "    .dataframe thead th {\n",
       "        text-align: right;\n",
       "    }\n",
       "</style>\n",
       "<table border=\"1\" class=\"dataframe\">\n",
       "  <thead>\n",
       "    <tr style=\"text-align: right;\">\n",
       "      <th></th>\n",
       "      <th>FL_DATE</th>\n",
       "      <th>OP_CARRIER</th>\n",
       "      <th>OP_CARRIER_FL_NUM</th>\n",
       "      <th>ORIGIN</th>\n",
       "      <th>DEST</th>\n",
       "      <th>CRS_DEP_TIME</th>\n",
       "      <th>DEP_TIME</th>\n",
       "      <th>DEP_DELAY</th>\n",
       "      <th>TAXI_OUT</th>\n",
       "      <th>WHEELS_OFF</th>\n",
       "      <th>...</th>\n",
       "      <th>CRS_ELAPSED_TIME</th>\n",
       "      <th>ACTUAL_ELAPSED_TIME</th>\n",
       "      <th>AIR_TIME</th>\n",
       "      <th>DISTANCE</th>\n",
       "      <th>CARRIER_DELAY</th>\n",
       "      <th>WEATHER_DELAY</th>\n",
       "      <th>NAS_DELAY</th>\n",
       "      <th>SECURITY_DELAY</th>\n",
       "      <th>LATE_AIRCRAFT_DELAY</th>\n",
       "      <th>Unnamed: 27</th>\n",
       "    </tr>\n",
       "  </thead>\n",
       "  <tbody>\n",
       "    <tr>\n",
       "      <th>0</th>\n",
       "      <td>2017-01-01</td>\n",
       "      <td>AA</td>\n",
       "      <td>1</td>\n",
       "      <td>JFK</td>\n",
       "      <td>LAX</td>\n",
       "      <td>800</td>\n",
       "      <td>831.0</td>\n",
       "      <td>31.0</td>\n",
       "      <td>25.0</td>\n",
       "      <td>856.0</td>\n",
       "      <td>...</td>\n",
       "      <td>402.0</td>\n",
       "      <td>398.0</td>\n",
       "      <td>347.0</td>\n",
       "      <td>2475.0</td>\n",
       "      <td>27.0</td>\n",
       "      <td>0.0</td>\n",
       "      <td>0.0</td>\n",
       "      <td>0.0</td>\n",
       "      <td>0.0</td>\n",
       "      <td>NaN</td>\n",
       "    </tr>\n",
       "    <tr>\n",
       "      <th>1</th>\n",
       "      <td>2017-01-01</td>\n",
       "      <td>AA</td>\n",
       "      <td>2</td>\n",
       "      <td>LAX</td>\n",
       "      <td>JFK</td>\n",
       "      <td>900</td>\n",
       "      <td>934.0</td>\n",
       "      <td>34.0</td>\n",
       "      <td>34.0</td>\n",
       "      <td>1008.0</td>\n",
       "      <td>...</td>\n",
       "      <td>327.0</td>\n",
       "      <td>335.0</td>\n",
       "      <td>289.0</td>\n",
       "      <td>2475.0</td>\n",
       "      <td>34.0</td>\n",
       "      <td>0.0</td>\n",
       "      <td>8.0</td>\n",
       "      <td>0.0</td>\n",
       "      <td>0.0</td>\n",
       "      <td>NaN</td>\n",
       "    </tr>\n",
       "    <tr>\n",
       "      <th>2</th>\n",
       "      <td>2017-01-01</td>\n",
       "      <td>AA</td>\n",
       "      <td>4</td>\n",
       "      <td>LAX</td>\n",
       "      <td>JFK</td>\n",
       "      <td>1130</td>\n",
       "      <td>1221.0</td>\n",
       "      <td>51.0</td>\n",
       "      <td>20.0</td>\n",
       "      <td>1241.0</td>\n",
       "      <td>...</td>\n",
       "      <td>328.0</td>\n",
       "      <td>319.0</td>\n",
       "      <td>284.0</td>\n",
       "      <td>2475.0</td>\n",
       "      <td>7.0</td>\n",
       "      <td>0.0</td>\n",
       "      <td>0.0</td>\n",
       "      <td>0.0</td>\n",
       "      <td>35.0</td>\n",
       "      <td>NaN</td>\n",
       "    </tr>\n",
       "    <tr>\n",
       "      <th>3</th>\n",
       "      <td>2017-01-01</td>\n",
       "      <td>AA</td>\n",
       "      <td>5</td>\n",
       "      <td>DFW</td>\n",
       "      <td>HNL</td>\n",
       "      <td>1135</td>\n",
       "      <td>1252.0</td>\n",
       "      <td>77.0</td>\n",
       "      <td>19.0</td>\n",
       "      <td>1311.0</td>\n",
       "      <td>...</td>\n",
       "      <td>517.0</td>\n",
       "      <td>537.0</td>\n",
       "      <td>513.0</td>\n",
       "      <td>3784.0</td>\n",
       "      <td>77.0</td>\n",
       "      <td>0.0</td>\n",
       "      <td>20.0</td>\n",
       "      <td>0.0</td>\n",
       "      <td>0.0</td>\n",
       "      <td>NaN</td>\n",
       "    </tr>\n",
       "    <tr>\n",
       "      <th>4</th>\n",
       "      <td>2017-01-01</td>\n",
       "      <td>AA</td>\n",
       "      <td>6</td>\n",
       "      <td>OGG</td>\n",
       "      <td>DFW</td>\n",
       "      <td>1855</td>\n",
       "      <td>1855.0</td>\n",
       "      <td>0.0</td>\n",
       "      <td>16.0</td>\n",
       "      <td>1911.0</td>\n",
       "      <td>...</td>\n",
       "      <td>425.0</td>\n",
       "      <td>467.0</td>\n",
       "      <td>440.0</td>\n",
       "      <td>3711.0</td>\n",
       "      <td>0.0</td>\n",
       "      <td>0.0</td>\n",
       "      <td>42.0</td>\n",
       "      <td>0.0</td>\n",
       "      <td>0.0</td>\n",
       "      <td>NaN</td>\n",
       "    </tr>\n",
       "  </tbody>\n",
       "</table>\n",
       "<p>5 rows × 28 columns</p>\n",
       "</div>"
      ],
      "text/plain": [
       "      FL_DATE OP_CARRIER  OP_CARRIER_FL_NUM ORIGIN DEST  CRS_DEP_TIME  \\\n",
       "0  2017-01-01         AA                  1    JFK  LAX           800   \n",
       "1  2017-01-01         AA                  2    LAX  JFK           900   \n",
       "2  2017-01-01         AA                  4    LAX  JFK          1130   \n",
       "3  2017-01-01         AA                  5    DFW  HNL          1135   \n",
       "4  2017-01-01         AA                  6    OGG  DFW          1855   \n",
       "\n",
       "   DEP_TIME  DEP_DELAY  TAXI_OUT  WHEELS_OFF  ...  CRS_ELAPSED_TIME  \\\n",
       "0     831.0       31.0      25.0       856.0  ...             402.0   \n",
       "1     934.0       34.0      34.0      1008.0  ...             327.0   \n",
       "2    1221.0       51.0      20.0      1241.0  ...             328.0   \n",
       "3    1252.0       77.0      19.0      1311.0  ...             517.0   \n",
       "4    1855.0        0.0      16.0      1911.0  ...             425.0   \n",
       "\n",
       "   ACTUAL_ELAPSED_TIME  AIR_TIME  DISTANCE  CARRIER_DELAY  WEATHER_DELAY  \\\n",
       "0                398.0     347.0    2475.0           27.0            0.0   \n",
       "1                335.0     289.0    2475.0           34.0            0.0   \n",
       "2                319.0     284.0    2475.0            7.0            0.0   \n",
       "3                537.0     513.0    3784.0           77.0            0.0   \n",
       "4                467.0     440.0    3711.0            0.0            0.0   \n",
       "\n",
       "  NAS_DELAY  SECURITY_DELAY  LATE_AIRCRAFT_DELAY  Unnamed: 27  \n",
       "0       0.0             0.0                  0.0          NaN  \n",
       "1       8.0             0.0                  0.0          NaN  \n",
       "2       0.0             0.0                 35.0          NaN  \n",
       "3      20.0             0.0                  0.0          NaN  \n",
       "4      42.0             0.0                  0.0          NaN  \n",
       "\n",
       "[5 rows x 28 columns]"
      ]
     },
     "execution_count": 4,
     "metadata": {},
     "output_type": "execute_result"
    }
   ],
   "source": [
    "df2017.head()"
   ]
  },
  {
   "cell_type": "markdown",
   "metadata": {},
   "source": [
    "### Data Exploration and Preprocessing"
   ]
  },
  {
   "cell_type": "markdown",
   "metadata": {},
   "source": [
    "Since, we are concentrating on American Airlines(AA), lets filter out all the records for it from our dataset."
   ]
  },
  {
   "cell_type": "code",
   "execution_count": 5,
   "metadata": {},
   "outputs": [],
   "source": [
    "new_df17 = df2017.loc[(df2017['OP_CARRIER']=='AA')]\n",
    "new_df18 = df2018.loc[(df2018['OP_CARRIER']=='AA')]"
   ]
  },
  {
   "cell_type": "markdown",
   "metadata": {},
   "source": [
    "##### Checking for null values in dataset"
   ]
  },
  {
   "cell_type": "code",
   "execution_count": 6,
   "metadata": {},
   "outputs": [
    {
     "data": {
      "text/plain": [
       "FL_DATE                     0\n",
       "OP_CARRIER                  0\n",
       "OP_CARRIER_FL_NUM           0\n",
       "ORIGIN                      0\n",
       "DEST                        0\n",
       "CRS_DEP_TIME                0\n",
       "DEP_TIME                11521\n",
       "DEP_DELAY               11536\n",
       "TAXI_OUT                12075\n",
       "WHEELS_OFF              12075\n",
       "WHEELS_ON               12338\n",
       "TAXI_IN                 12338\n",
       "CRS_ARR_TIME                0\n",
       "ARR_TIME                12338\n",
       "ARR_DELAY               14130\n",
       "CANCELLED                   0\n",
       "CANCELLATION_CODE      884210\n",
       "DIVERTED                    0\n",
       "CRS_ELAPSED_TIME            0\n",
       "ACTUAL_ELAPSED_TIME     14130\n",
       "AIR_TIME                14130\n",
       "DISTANCE                    0\n",
       "CARRIER_DELAY          734322\n",
       "WEATHER_DELAY          734322\n",
       "NAS_DELAY              734322\n",
       "SECURITY_DELAY         734322\n",
       "LATE_AIRCRAFT_DELAY    734322\n",
       "Unnamed: 27            896348\n",
       "dtype: int64"
      ]
     },
     "execution_count": 6,
     "metadata": {},
     "output_type": "execute_result"
    }
   ],
   "source": [
    "new_df17.isnull().sum()"
   ]
  },
  {
   "cell_type": "markdown",
   "metadata": {},
   "source": [
    "We have most of the null values in columns 'CANCELLATION_CODE', 'CARRIER_DELAY', 'WEATHER_DELAY', 'NAS_DELAY', 'SECURITY_DELAY', 'LATE_AIRCRAFT_DELAY', 'Unnamed: 27'. The best approach we followed is to drop the subsequent columns which accounted for 81% of the dataset. "
   ]
  },
  {
   "cell_type": "markdown",
   "metadata": {},
   "source": [
    "#### Dropping all the unnecessary columns"
   ]
  },
  {
   "cell_type": "code",
   "execution_count": 7,
   "metadata": {},
   "outputs": [],
   "source": [
    "new_df17 = new_df17.drop(columns = ['CANCELLATION_CODE','CARRIER_DELAY','WEATHER_DELAY','NAS_DELAY','SECURITY_DELAY',\\\n",
    "                                  'LATE_AIRCRAFT_DELAY','Unnamed: 27'])\n",
    "new_df18 = new_df18.drop(columns = ['CANCELLATION_CODE','CARRIER_DELAY','WEATHER_DELAY','NAS_DELAY','SECURITY_DELAY',\\\n",
    "                                   'LATE_AIRCRAFT_DELAY','Unnamed: 27'])"
   ]
  },
  {
   "cell_type": "markdown",
   "metadata": {},
   "source": [
    "#### Again Checking for the null values for both years dataset"
   ]
  },
  {
   "cell_type": "code",
   "execution_count": 8,
   "metadata": {},
   "outputs": [
    {
     "data": {
      "text/plain": [
       "FL_DATE                    0\n",
       "OP_CARRIER                 0\n",
       "OP_CARRIER_FL_NUM          0\n",
       "ORIGIN                     0\n",
       "DEST                       0\n",
       "CRS_DEP_TIME               0\n",
       "DEP_TIME               14238\n",
       "DEP_DELAY              14256\n",
       "TAXI_OUT               14868\n",
       "WHEELS_OFF             14868\n",
       "WHEELS_ON              15176\n",
       "TAXI_IN                15176\n",
       "CRS_ARR_TIME               0\n",
       "ARR_TIME               15176\n",
       "ARR_DELAY              17291\n",
       "CANCELLED                  0\n",
       "DIVERTED                   0\n",
       "CRS_ELAPSED_TIME           0\n",
       "ACTUAL_ELAPSED_TIME    17291\n",
       "AIR_TIME               17291\n",
       "DISTANCE                   0\n",
       "dtype: int64"
      ]
     },
     "execution_count": 8,
     "metadata": {},
     "output_type": "execute_result"
    }
   ],
   "source": [
    "new_df17.isnull().sum()\n",
    "new_df18.isnull().sum()"
   ]
  },
  {
   "cell_type": "markdown",
   "metadata": {},
   "source": [
    "We noticed that the flights which are getting Cancelled/Diverted have the null values in some columns. \n",
    "Since, the cancelled/Diverted flights are not our concern, We are removing all the instances for Cancelled/Diverted "
   ]
  },
  {
   "cell_type": "code",
   "execution_count": 9,
   "metadata": {},
   "outputs": [],
   "source": [
    "new_df17 = new_df17.loc[(new_df17['CANCELLED']==0.0)]\n",
    "new_df17 = new_df17.loc[(new_df17[\"DIVERTED\"]==0.0)]\n",
    "\n",
    "new_df18 = new_df18.loc[(new_df18['CANCELLED']==0.0)]\n",
    "new_df18 = new_df18.loc[(new_df18[\"DIVERTED\"]==0.0)]"
   ]
  },
  {
   "cell_type": "markdown",
   "metadata": {},
   "source": [
    "The cancelled/divereted flights did not make it to airport, hence the null values in DEP TIME, DEP_DELAY"
   ]
  },
  {
   "cell_type": "code",
   "execution_count": 10,
   "metadata": {},
   "outputs": [
    {
     "data": {
      "text/plain": [
       "FL_DATE                0\n",
       "OP_CARRIER             0\n",
       "OP_CARRIER_FL_NUM      0\n",
       "ORIGIN                 0\n",
       "DEST                   0\n",
       "CRS_DEP_TIME           0\n",
       "DEP_TIME               0\n",
       "DEP_DELAY              0\n",
       "TAXI_OUT               0\n",
       "WHEELS_OFF             0\n",
       "WHEELS_ON              0\n",
       "TAXI_IN                0\n",
       "CRS_ARR_TIME           0\n",
       "ARR_TIME               0\n",
       "ARR_DELAY              0\n",
       "CANCELLED              0\n",
       "DIVERTED               0\n",
       "CRS_ELAPSED_TIME       0\n",
       "ACTUAL_ELAPSED_TIME    0\n",
       "AIR_TIME               0\n",
       "DISTANCE               0\n",
       "dtype: int64"
      ]
     },
     "execution_count": 10,
     "metadata": {},
     "output_type": "execute_result"
    }
   ],
   "source": [
    "new_df17.isnull().sum()"
   ]
  },
  {
   "cell_type": "markdown",
   "metadata": {},
   "source": [
    "As you can see, just by removing the cancelled and diverted flights, we got rid of the null values in the data"
   ]
  },
  {
   "cell_type": "code",
   "execution_count": 11,
   "metadata": {},
   "outputs": [
    {
     "name": "stdout",
     "output_type": "stream",
     "text": [
      "<class 'pandas.core.frame.DataFrame'>\n",
      "Int64Index: 882218 entries, 0 to 5671594\n",
      "Data columns (total 21 columns):\n",
      " #   Column               Non-Null Count   Dtype  \n",
      "---  ------               --------------   -----  \n",
      " 0   FL_DATE              882218 non-null  object \n",
      " 1   OP_CARRIER           882218 non-null  object \n",
      " 2   OP_CARRIER_FL_NUM    882218 non-null  int64  \n",
      " 3   ORIGIN               882218 non-null  object \n",
      " 4   DEST                 882218 non-null  object \n",
      " 5   CRS_DEP_TIME         882218 non-null  int64  \n",
      " 6   DEP_TIME             882218 non-null  float64\n",
      " 7   DEP_DELAY            882218 non-null  float64\n",
      " 8   TAXI_OUT             882218 non-null  float64\n",
      " 9   WHEELS_OFF           882218 non-null  float64\n",
      " 10  WHEELS_ON            882218 non-null  float64\n",
      " 11  TAXI_IN              882218 non-null  float64\n",
      " 12  CRS_ARR_TIME         882218 non-null  int64  \n",
      " 13  ARR_TIME             882218 non-null  float64\n",
      " 14  ARR_DELAY            882218 non-null  float64\n",
      " 15  CANCELLED            882218 non-null  float64\n",
      " 16  DIVERTED             882218 non-null  float64\n",
      " 17  CRS_ELAPSED_TIME     882218 non-null  float64\n",
      " 18  ACTUAL_ELAPSED_TIME  882218 non-null  float64\n",
      " 19  AIR_TIME             882218 non-null  float64\n",
      " 20  DISTANCE             882218 non-null  float64\n",
      "dtypes: float64(14), int64(3), object(4)\n",
      "memory usage: 148.1+ MB\n"
     ]
    }
   ],
   "source": [
    "new_df17.info()"
   ]
  },
  {
   "cell_type": "markdown",
   "metadata": {},
   "source": [
    "#### Now we are identifying top 5 Origin cities and top 5 destinations for American Airlines"
   ]
  },
  {
   "cell_type": "markdown",
   "metadata": {},
   "source": [
    "We are acheiving this by tracking most number of flight taken off from any origin city in USA"
   ]
  },
  {
   "cell_type": "code",
   "execution_count": 12,
   "metadata": {},
   "outputs": [],
   "source": [
    "top_origin_counts = new_df17['ORIGIN'].value_counts().tolist()[:5] #Using Value_vounts to identify most number of \\\n",
    "                                                                    #occurances for any origin city airport.\n",
    "top_origin_cities = new_df17['ORIGIN'].value_counts().index.tolist()[:5]\n",
    "top_dest_counts = new_df17['DEST'].value_counts().tolist()[:5]#Using Value_vounts to identify most number of \\\n",
    "                                                                    #occurances for any desination city airport.\n",
    "top_dest_cities = new_df17['DEST'].value_counts().index.tolist()[:5]"
   ]
  },
  {
   "cell_type": "code",
   "execution_count": 13,
   "metadata": {},
   "outputs": [
    {
     "data": {
      "image/png": "[encoded data removed]",
      "text/plain": [
       "<Figure size 432x288 with 1 Axes>"
      ]
     },
     "metadata": {
      "needs_background": "light"
     },
     "output_type": "display_data"
    },
    {
     "data": {
      "text/plain": [
       "<Figure size 320x480 with 0 Axes>"
      ]
     },
     "metadata": {},
     "output_type": "display_data"
    }
   ],
   "source": [
    "plt.bar(top_origin_cities,top_origin_counts)\n",
    "plt.xlabel(\"Origin Cities\")\n",
    "plt.ylabel(\"Number of instances\")\n",
    "plt.figure(figsize=(4,6), dpi=80, facecolor='w', edgecolor='k')\n",
    "plt.show()"
   ]
  },
  {
   "cell_type": "markdown",
   "metadata": {},
   "source": [
    "We got top 5 origin airports as 'DFW', 'CLT', 'ORD','PHX','MIA'"
   ]
  },
  {
   "cell_type": "code",
   "execution_count": 14,
   "metadata": {},
   "outputs": [
    {
     "data": {
      "image/png": "[encoded data removed]",
      "text/plain": [
       "<Figure size 432x288 with 1 Axes>"
      ]
     },
     "metadata": {
      "needs_background": "light"
     },
     "output_type": "display_data"
    },
    {
     "data": {
      "text/plain": [
       "<Figure size 320x480 with 0 Axes>"
      ]
     },
     "metadata": {},
     "output_type": "display_data"
    }
   ],
   "source": [
    "plt.bar(top_dest_cities,top_dest_counts)\n",
    "plt.xlabel(\"Destination Cities\")\n",
    "plt.ylabel(\"Number of instances\")\n",
    "plt.figure(figsize=(4,6), dpi=80, facecolor='w', edgecolor='k')\n",
    "plt.show()"
   ]
  },
  {
   "cell_type": "markdown",
   "metadata": {},
   "source": [
    "Now, we got top 5 destination airports as 'DFW', 'CLT', 'ORD','PHX','MIA', which are same as our origin."
   ]
  },
  {
   "cell_type": "markdown",
   "metadata": {},
   "source": [
    "Now we lets filter our dataset for these 5 Origins and Destinations"
   ]
  },
  {
   "cell_type": "code",
   "execution_count": 15,
   "metadata": {},
   "outputs": [],
   "source": [
    "new_df17= new_df17[new_df17['ORIGIN'].isin(top_origin_cities)]\n",
    "new_df18 = new_df18[new_df18['ORIGIN'].isin(top_origin_cities)]\n",
    "\n",
    "new_df17 = new_df17[new_df17['DEST'].isin(top_dest_cities)]\n",
    "new_df18 = new_df18[new_df18['DEST'].isin(top_dest_cities)]"
   ]
  },
  {
   "cell_type": "markdown",
   "metadata": {},
   "source": [
    "Note 1 - Our analysis is based on the data that a passenger will have, such as Scheduled departure, scheduled                  Arrival, scheduled air time etc. So we are dropping other columns as below"
   ]
  },
  {
   "cell_type": "code",
   "execution_count": 16,
   "metadata": {},
   "outputs": [],
   "source": [
    "new_df17 = new_df17.drop(columns=['OP_CARRIER','OP_CARRIER_FL_NUM','DEP_TIME','DEP_DELAY','TAXI_OUT','WHEELS_OFF',\\\n",
    "                                  'TAXI_IN','WHEELS_ON','ARR_TIME', 'CANCELLED', 'DIVERTED','ACTUAL_ELAPSED_TIME',\\\n",
    "                                 'AIR_TIME', 'DISTANCE'])\n",
    "\n",
    "new_df18 = new_df18.drop(columns=['OP_CARRIER','OP_CARRIER_FL_NUM','DEP_TIME','DEP_DELAY','TAXI_OUT','WHEELS_OFF',\\\n",
    "                                  'TAXI_IN','WHEELS_ON','ARR_TIME', 'CANCELLED', 'DIVERTED','ACTUAL_ELAPSED_TIME',\\\n",
    "                                 'AIR_TIME','DISTANCE'])"
   ]
  },
  {
   "cell_type": "markdown",
   "metadata": {},
   "source": [
    "##### Now we are converting our 'FL_DATE' column to datetime and extracting a weekdaty from it"
   ]
  },
  {
   "cell_type": "code",
   "execution_count": 17,
   "metadata": {},
   "outputs": [],
   "source": [
    "new_df17['Day_of_week'] = pd.to_datetime(new_df17['FL_DATE']).dt.weekday\n",
    "new_df18['Day_of_week'] = pd.to_datetime(new_df18['FL_DATE']).dt.weekday"
   ]
  },
  {
   "cell_type": "code",
   "execution_count": 18,
   "metadata": {},
   "outputs": [
    {
     "data": {
      "text/html": [
       "<div>\n",
       "<style scoped>\n",
       "    .dataframe tbody tr th:only-of-type {\n",
       "        vertical-align: middle;\n",
       "    }\n",
       "\n",
       "    .dataframe tbody tr th {\n",
       "        vertical-align: top;\n",
       "    }\n",
       "\n",
       "    .dataframe thead th {\n",
       "        text-align: right;\n",
       "    }\n",
       "</style>\n",
       "<table border=\"1\" class=\"dataframe\">\n",
       "  <thead>\n",
       "    <tr style=\"text-align: right;\">\n",
       "      <th></th>\n",
       "      <th>FL_DATE</th>\n",
       "      <th>ORIGIN</th>\n",
       "      <th>DEST</th>\n",
       "      <th>CRS_DEP_TIME</th>\n",
       "      <th>CRS_ARR_TIME</th>\n",
       "      <th>ARR_DELAY</th>\n",
       "      <th>CRS_ELAPSED_TIME</th>\n",
       "      <th>Day_of_week</th>\n",
       "    </tr>\n",
       "  </thead>\n",
       "  <tbody>\n",
       "    <tr>\n",
       "      <th>44</th>\n",
       "      <td>2017-01-01</td>\n",
       "      <td>DFW</td>\n",
       "      <td>MIA</td>\n",
       "      <td>1730</td>\n",
       "      <td>2113</td>\n",
       "      <td>-11.0</td>\n",
       "      <td>163.0</td>\n",
       "      <td>6</td>\n",
       "    </tr>\n",
       "    <tr>\n",
       "      <th>45</th>\n",
       "      <td>2017-01-01</td>\n",
       "      <td>MIA</td>\n",
       "      <td>DFW</td>\n",
       "      <td>705</td>\n",
       "      <td>920</td>\n",
       "      <td>160.0</td>\n",
       "      <td>195.0</td>\n",
       "      <td>6</td>\n",
       "    </tr>\n",
       "    <tr>\n",
       "      <th>144</th>\n",
       "      <td>2017-01-01</td>\n",
       "      <td>DFW</td>\n",
       "      <td>MIA</td>\n",
       "      <td>1228</td>\n",
       "      <td>1610</td>\n",
       "      <td>25.0</td>\n",
       "      <td>162.0</td>\n",
       "      <td>6</td>\n",
       "    </tr>\n",
       "    <tr>\n",
       "      <th>145</th>\n",
       "      <td>2017-01-01</td>\n",
       "      <td>MIA</td>\n",
       "      <td>DFW</td>\n",
       "      <td>1826</td>\n",
       "      <td>2045</td>\n",
       "      <td>31.0</td>\n",
       "      <td>199.0</td>\n",
       "      <td>6</td>\n",
       "    </tr>\n",
       "    <tr>\n",
       "      <th>156</th>\n",
       "      <td>2017-01-01</td>\n",
       "      <td>MIA</td>\n",
       "      <td>ORD</td>\n",
       "      <td>2020</td>\n",
       "      <td>2244</td>\n",
       "      <td>9.0</td>\n",
       "      <td>204.0</td>\n",
       "      <td>6</td>\n",
       "    </tr>\n",
       "  </tbody>\n",
       "</table>\n",
       "</div>"
      ],
      "text/plain": [
       "        FL_DATE ORIGIN DEST  CRS_DEP_TIME  CRS_ARR_TIME  ARR_DELAY  \\\n",
       "44   2017-01-01    DFW  MIA          1730          2113      -11.0   \n",
       "45   2017-01-01    MIA  DFW           705           920      160.0   \n",
       "144  2017-01-01    DFW  MIA          1228          1610       25.0   \n",
       "145  2017-01-01    MIA  DFW          1826          2045       31.0   \n",
       "156  2017-01-01    MIA  ORD          2020          2244        9.0   \n",
       "\n",
       "     CRS_ELAPSED_TIME  Day_of_week  \n",
       "44              163.0            6  \n",
       "45              195.0            6  \n",
       "144             162.0            6  \n",
       "145             199.0            6  \n",
       "156             204.0            6  "
      ]
     },
     "execution_count": 18,
     "metadata": {},
     "output_type": "execute_result"
    }
   ],
   "source": [
    "new_df17.head()"
   ]
  },
  {
   "cell_type": "markdown",
   "metadata": {},
   "source": [
    "Since we have day of the week where 0 is Monday and 6 is Sunday, We are dividing the month in 3 parts"
   ]
  },
  {
   "cell_type": "code",
   "execution_count": 19,
   "metadata": {},
   "outputs": [],
   "source": [
    "# Defining a function for 3 parts of the month to see if the flight delays are more frequent in any part of the month.\n",
    "def month_period(x):\n",
    "    if x in range(1,10):\n",
    "        return('Month_Start')\n",
    "    elif x in range(10,20):\n",
    "        return('Mid-Month')\n",
    "    else:\n",
    "        return('Month_end')"
   ]
  },
  {
   "cell_type": "code",
   "execution_count": 20,
   "metadata": {},
   "outputs": [],
   "source": [
    "new_df17['Week_of_month'] = pd.to_datetime(new_df17['FL_DATE']).dt.day.apply(month_period)\n",
    "new_df18['Week_of_month'] = pd.to_datetime(new_df18['FL_DATE']).dt.day.apply(month_period)"
   ]
  },
  {
   "cell_type": "code",
   "execution_count": 21,
   "metadata": {},
   "outputs": [
    {
     "data": {
      "text/html": [
       "<div>\n",
       "<style scoped>\n",
       "    .dataframe tbody tr th:only-of-type {\n",
       "        vertical-align: middle;\n",
       "    }\n",
       "\n",
       "    .dataframe tbody tr th {\n",
       "        vertical-align: top;\n",
       "    }\n",
       "\n",
       "    .dataframe thead th {\n",
       "        text-align: right;\n",
       "    }\n",
       "</style>\n",
       "<table border=\"1\" class=\"dataframe\">\n",
       "  <thead>\n",
       "    <tr style=\"text-align: right;\">\n",
       "      <th></th>\n",
       "      <th>FL_DATE</th>\n",
       "      <th>ORIGIN</th>\n",
       "      <th>DEST</th>\n",
       "      <th>CRS_DEP_TIME</th>\n",
       "      <th>CRS_ARR_TIME</th>\n",
       "      <th>ARR_DELAY</th>\n",
       "      <th>CRS_ELAPSED_TIME</th>\n",
       "      <th>Day_of_week</th>\n",
       "      <th>Week_of_month</th>\n",
       "    </tr>\n",
       "  </thead>\n",
       "  <tbody>\n",
       "    <tr>\n",
       "      <th>44</th>\n",
       "      <td>2017-01-01</td>\n",
       "      <td>DFW</td>\n",
       "      <td>MIA</td>\n",
       "      <td>1730</td>\n",
       "      <td>2113</td>\n",
       "      <td>-11.0</td>\n",
       "      <td>163.0</td>\n",
       "      <td>6</td>\n",
       "      <td>Month_Start</td>\n",
       "    </tr>\n",
       "    <tr>\n",
       "      <th>45</th>\n",
       "      <td>2017-01-01</td>\n",
       "      <td>MIA</td>\n",
       "      <td>DFW</td>\n",
       "      <td>705</td>\n",
       "      <td>920</td>\n",
       "      <td>160.0</td>\n",
       "      <td>195.0</td>\n",
       "      <td>6</td>\n",
       "      <td>Month_Start</td>\n",
       "    </tr>\n",
       "    <tr>\n",
       "      <th>144</th>\n",
       "      <td>2017-01-01</td>\n",
       "      <td>DFW</td>\n",
       "      <td>MIA</td>\n",
       "      <td>1228</td>\n",
       "      <td>1610</td>\n",
       "      <td>25.0</td>\n",
       "      <td>162.0</td>\n",
       "      <td>6</td>\n",
       "      <td>Month_Start</td>\n",
       "    </tr>\n",
       "    <tr>\n",
       "      <th>145</th>\n",
       "      <td>2017-01-01</td>\n",
       "      <td>MIA</td>\n",
       "      <td>DFW</td>\n",
       "      <td>1826</td>\n",
       "      <td>2045</td>\n",
       "      <td>31.0</td>\n",
       "      <td>199.0</td>\n",
       "      <td>6</td>\n",
       "      <td>Month_Start</td>\n",
       "    </tr>\n",
       "    <tr>\n",
       "      <th>156</th>\n",
       "      <td>2017-01-01</td>\n",
       "      <td>MIA</td>\n",
       "      <td>ORD</td>\n",
       "      <td>2020</td>\n",
       "      <td>2244</td>\n",
       "      <td>9.0</td>\n",
       "      <td>204.0</td>\n",
       "      <td>6</td>\n",
       "      <td>Month_Start</td>\n",
       "    </tr>\n",
       "  </tbody>\n",
       "</table>\n",
       "</div>"
      ],
      "text/plain": [
       "        FL_DATE ORIGIN DEST  CRS_DEP_TIME  CRS_ARR_TIME  ARR_DELAY  \\\n",
       "44   2017-01-01    DFW  MIA          1730          2113      -11.0   \n",
       "45   2017-01-01    MIA  DFW           705           920      160.0   \n",
       "144  2017-01-01    DFW  MIA          1228          1610       25.0   \n",
       "145  2017-01-01    MIA  DFW          1826          2045       31.0   \n",
       "156  2017-01-01    MIA  ORD          2020          2244        9.0   \n",
       "\n",
       "     CRS_ELAPSED_TIME  Day_of_week Week_of_month  \n",
       "44              163.0            6   Month_Start  \n",
       "45              195.0            6   Month_Start  \n",
       "144             162.0            6   Month_Start  \n",
       "145             199.0            6   Month_Start  \n",
       "156             204.0            6   Month_Start  "
      ]
     },
     "execution_count": 21,
     "metadata": {},
     "output_type": "execute_result"
    }
   ],
   "source": [
    "new_df17.head()"
   ]
  },
  {
   "cell_type": "markdown",
   "metadata": {},
   "source": [
    "We have label encoded the week of the month column. Now we are making the dummy variables for it."
   ]
  },
  {
   "cell_type": "code",
   "execution_count": 22,
   "metadata": {},
   "outputs": [],
   "source": [
    "new_df17 = pd.get_dummies(new_df17,columns =['Week_of_month','Day_of_week'],drop_first=True)\n",
    "new_df18 = pd.get_dummies(new_df18,columns =['Week_of_month','Day_of_week'],drop_first=True)"
   ]
  },
  {
   "cell_type": "code",
   "execution_count": 23,
   "metadata": {},
   "outputs": [
    {
     "data": {
      "text/html": [
       "<div>\n",
       "<style scoped>\n",
       "    .dataframe tbody tr th:only-of-type {\n",
       "        vertical-align: middle;\n",
       "    }\n",
       "\n",
       "    .dataframe tbody tr th {\n",
       "        vertical-align: top;\n",
       "    }\n",
       "\n",
       "    .dataframe thead th {\n",
       "        text-align: right;\n",
       "    }\n",
       "</style>\n",
       "<table border=\"1\" class=\"dataframe\">\n",
       "  <thead>\n",
       "    <tr style=\"text-align: right;\">\n",
       "      <th></th>\n",
       "      <th>FL_DATE</th>\n",
       "      <th>ORIGIN</th>\n",
       "      <th>DEST</th>\n",
       "      <th>CRS_DEP_TIME</th>\n",
       "      <th>CRS_ARR_TIME</th>\n",
       "      <th>ARR_DELAY</th>\n",
       "      <th>CRS_ELAPSED_TIME</th>\n",
       "      <th>Week_of_month_Month_Start</th>\n",
       "      <th>Week_of_month_Month_end</th>\n",
       "      <th>Day_of_week_1</th>\n",
       "      <th>Day_of_week_2</th>\n",
       "      <th>Day_of_week_3</th>\n",
       "      <th>Day_of_week_4</th>\n",
       "      <th>Day_of_week_5</th>\n",
       "      <th>Day_of_week_6</th>\n",
       "    </tr>\n",
       "  </thead>\n",
       "  <tbody>\n",
       "    <tr>\n",
       "      <th>44</th>\n",
       "      <td>2017-01-01</td>\n",
       "      <td>DFW</td>\n",
       "      <td>MIA</td>\n",
       "      <td>1730</td>\n",
       "      <td>2113</td>\n",
       "      <td>-11.0</td>\n",
       "      <td>163.0</td>\n",
       "      <td>1</td>\n",
       "      <td>0</td>\n",
       "      <td>0</td>\n",
       "      <td>0</td>\n",
       "      <td>0</td>\n",
       "      <td>0</td>\n",
       "      <td>0</td>\n",
       "      <td>1</td>\n",
       "    </tr>\n",
       "    <tr>\n",
       "      <th>45</th>\n",
       "      <td>2017-01-01</td>\n",
       "      <td>MIA</td>\n",
       "      <td>DFW</td>\n",
       "      <td>705</td>\n",
       "      <td>920</td>\n",
       "      <td>160.0</td>\n",
       "      <td>195.0</td>\n",
       "      <td>1</td>\n",
       "      <td>0</td>\n",
       "      <td>0</td>\n",
       "      <td>0</td>\n",
       "      <td>0</td>\n",
       "      <td>0</td>\n",
       "      <td>0</td>\n",
       "      <td>1</td>\n",
       "    </tr>\n",
       "    <tr>\n",
       "      <th>144</th>\n",
       "      <td>2017-01-01</td>\n",
       "      <td>DFW</td>\n",
       "      <td>MIA</td>\n",
       "      <td>1228</td>\n",
       "      <td>1610</td>\n",
       "      <td>25.0</td>\n",
       "      <td>162.0</td>\n",
       "      <td>1</td>\n",
       "      <td>0</td>\n",
       "      <td>0</td>\n",
       "      <td>0</td>\n",
       "      <td>0</td>\n",
       "      <td>0</td>\n",
       "      <td>0</td>\n",
       "      <td>1</td>\n",
       "    </tr>\n",
       "    <tr>\n",
       "      <th>145</th>\n",
       "      <td>2017-01-01</td>\n",
       "      <td>MIA</td>\n",
       "      <td>DFW</td>\n",
       "      <td>1826</td>\n",
       "      <td>2045</td>\n",
       "      <td>31.0</td>\n",
       "      <td>199.0</td>\n",
       "      <td>1</td>\n",
       "      <td>0</td>\n",
       "      <td>0</td>\n",
       "      <td>0</td>\n",
       "      <td>0</td>\n",
       "      <td>0</td>\n",
       "      <td>0</td>\n",
       "      <td>1</td>\n",
       "    </tr>\n",
       "    <tr>\n",
       "      <th>156</th>\n",
       "      <td>2017-01-01</td>\n",
       "      <td>MIA</td>\n",
       "      <td>ORD</td>\n",
       "      <td>2020</td>\n",
       "      <td>2244</td>\n",
       "      <td>9.0</td>\n",
       "      <td>204.0</td>\n",
       "      <td>1</td>\n",
       "      <td>0</td>\n",
       "      <td>0</td>\n",
       "      <td>0</td>\n",
       "      <td>0</td>\n",
       "      <td>0</td>\n",
       "      <td>0</td>\n",
       "      <td>1</td>\n",
       "    </tr>\n",
       "  </tbody>\n",
       "</table>\n",
       "</div>"
      ],
      "text/plain": [
       "        FL_DATE ORIGIN DEST  CRS_DEP_TIME  CRS_ARR_TIME  ARR_DELAY  \\\n",
       "44   2017-01-01    DFW  MIA          1730          2113      -11.0   \n",
       "45   2017-01-01    MIA  DFW           705           920      160.0   \n",
       "144  2017-01-01    DFW  MIA          1228          1610       25.0   \n",
       "145  2017-01-01    MIA  DFW          1826          2045       31.0   \n",
       "156  2017-01-01    MIA  ORD          2020          2244        9.0   \n",
       "\n",
       "     CRS_ELAPSED_TIME  Week_of_month_Month_Start  Week_of_month_Month_end  \\\n",
       "44              163.0                          1                        0   \n",
       "45              195.0                          1                        0   \n",
       "144             162.0                          1                        0   \n",
       "145             199.0                          1                        0   \n",
       "156             204.0                          1                        0   \n",
       "\n",
       "     Day_of_week_1  Day_of_week_2  Day_of_week_3  Day_of_week_4  \\\n",
       "44               0              0              0              0   \n",
       "45               0              0              0              0   \n",
       "144              0              0              0              0   \n",
       "145              0              0              0              0   \n",
       "156              0              0              0              0   \n",
       "\n",
       "     Day_of_week_5  Day_of_week_6  \n",
       "44               0              1  \n",
       "45               0              1  \n",
       "144              0              1  \n",
       "145              0              1  \n",
       "156              0              1  "
      ]
     },
     "execution_count": 23,
     "metadata": {},
     "output_type": "execute_result"
    }
   ],
   "source": [
    "new_df17.head()"
   ]
  },
  {
   "cell_type": "markdown",
   "metadata": {},
   "source": [
    "Also, we are interested to see if the season of the year has any impact on the flight delay. \n",
    "So we have defined a function to get the season of the month"
   ]
  },
  {
   "cell_type": "code",
   "execution_count": 24,
   "metadata": {},
   "outputs": [],
   "source": [
    "def season(x):\n",
    "    if x==1 or x==2 or x==12:\n",
    "        return('Winter')\n",
    "    elif x==3 or x==4 or x==5:\n",
    "        return('Spring')\n",
    "    if x==6 or x==7 or x==8:\n",
    "        return('Summer')\n",
    "    else:\n",
    "        return('Not Summer')\n",
    "\n",
    "new_df17['season'] = pd.to_datetime(new_df17['FL_DATE']).dt.month.apply(season)\n",
    "new_df18['season'] = pd.to_datetime(new_df18['FL_DATE']).dt.month.apply(season)"
   ]
  },
  {
   "cell_type": "code",
   "execution_count": 25,
   "metadata": {},
   "outputs": [
    {
     "data": {
      "text/html": [
       "<div>\n",
       "<style scoped>\n",
       "    .dataframe tbody tr th:only-of-type {\n",
       "        vertical-align: middle;\n",
       "    }\n",
       "\n",
       "    .dataframe tbody tr th {\n",
       "        vertical-align: top;\n",
       "    }\n",
       "\n",
       "    .dataframe thead th {\n",
       "        text-align: right;\n",
       "    }\n",
       "</style>\n",
       "<table border=\"1\" class=\"dataframe\">\n",
       "  <thead>\n",
       "    <tr style=\"text-align: right;\">\n",
       "      <th></th>\n",
       "      <th>FL_DATE</th>\n",
       "      <th>ORIGIN</th>\n",
       "      <th>DEST</th>\n",
       "      <th>CRS_DEP_TIME</th>\n",
       "      <th>CRS_ARR_TIME</th>\n",
       "      <th>ARR_DELAY</th>\n",
       "      <th>CRS_ELAPSED_TIME</th>\n",
       "      <th>Week_of_month_Month_Start</th>\n",
       "      <th>Week_of_month_Month_end</th>\n",
       "      <th>Day_of_week_1</th>\n",
       "      <th>Day_of_week_2</th>\n",
       "      <th>Day_of_week_3</th>\n",
       "      <th>Day_of_week_4</th>\n",
       "      <th>Day_of_week_5</th>\n",
       "      <th>Day_of_week_6</th>\n",
       "      <th>season</th>\n",
       "    </tr>\n",
       "  </thead>\n",
       "  <tbody>\n",
       "    <tr>\n",
       "      <th>44</th>\n",
       "      <td>2017-01-01</td>\n",
       "      <td>DFW</td>\n",
       "      <td>MIA</td>\n",
       "      <td>1730</td>\n",
       "      <td>2113</td>\n",
       "      <td>-11.0</td>\n",
       "      <td>163.0</td>\n",
       "      <td>1</td>\n",
       "      <td>0</td>\n",
       "      <td>0</td>\n",
       "      <td>0</td>\n",
       "      <td>0</td>\n",
       "      <td>0</td>\n",
       "      <td>0</td>\n",
       "      <td>1</td>\n",
       "      <td>Winter</td>\n",
       "    </tr>\n",
       "    <tr>\n",
       "      <th>45</th>\n",
       "      <td>2017-01-01</td>\n",
       "      <td>MIA</td>\n",
       "      <td>DFW</td>\n",
       "      <td>705</td>\n",
       "      <td>920</td>\n",
       "      <td>160.0</td>\n",
       "      <td>195.0</td>\n",
       "      <td>1</td>\n",
       "      <td>0</td>\n",
       "      <td>0</td>\n",
       "      <td>0</td>\n",
       "      <td>0</td>\n",
       "      <td>0</td>\n",
       "      <td>0</td>\n",
       "      <td>1</td>\n",
       "      <td>Winter</td>\n",
       "    </tr>\n",
       "    <tr>\n",
       "      <th>144</th>\n",
       "      <td>2017-01-01</td>\n",
       "      <td>DFW</td>\n",
       "      <td>MIA</td>\n",
       "      <td>1228</td>\n",
       "      <td>1610</td>\n",
       "      <td>25.0</td>\n",
       "      <td>162.0</td>\n",
       "      <td>1</td>\n",
       "      <td>0</td>\n",
       "      <td>0</td>\n",
       "      <td>0</td>\n",
       "      <td>0</td>\n",
       "      <td>0</td>\n",
       "      <td>0</td>\n",
       "      <td>1</td>\n",
       "      <td>Winter</td>\n",
       "    </tr>\n",
       "    <tr>\n",
       "      <th>145</th>\n",
       "      <td>2017-01-01</td>\n",
       "      <td>MIA</td>\n",
       "      <td>DFW</td>\n",
       "      <td>1826</td>\n",
       "      <td>2045</td>\n",
       "      <td>31.0</td>\n",
       "      <td>199.0</td>\n",
       "      <td>1</td>\n",
       "      <td>0</td>\n",
       "      <td>0</td>\n",
       "      <td>0</td>\n",
       "      <td>0</td>\n",
       "      <td>0</td>\n",
       "      <td>0</td>\n",
       "      <td>1</td>\n",
       "      <td>Winter</td>\n",
       "    </tr>\n",
       "    <tr>\n",
       "      <th>156</th>\n",
       "      <td>2017-01-01</td>\n",
       "      <td>MIA</td>\n",
       "      <td>ORD</td>\n",
       "      <td>2020</td>\n",
       "      <td>2244</td>\n",
       "      <td>9.0</td>\n",
       "      <td>204.0</td>\n",
       "      <td>1</td>\n",
       "      <td>0</td>\n",
       "      <td>0</td>\n",
       "      <td>0</td>\n",
       "      <td>0</td>\n",
       "      <td>0</td>\n",
       "      <td>0</td>\n",
       "      <td>1</td>\n",
       "      <td>Winter</td>\n",
       "    </tr>\n",
       "  </tbody>\n",
       "</table>\n",
       "</div>"
      ],
      "text/plain": [
       "        FL_DATE ORIGIN DEST  CRS_DEP_TIME  CRS_ARR_TIME  ARR_DELAY  \\\n",
       "44   2017-01-01    DFW  MIA          1730          2113      -11.0   \n",
       "45   2017-01-01    MIA  DFW           705           920      160.0   \n",
       "144  2017-01-01    DFW  MIA          1228          1610       25.0   \n",
       "145  2017-01-01    MIA  DFW          1826          2045       31.0   \n",
       "156  2017-01-01    MIA  ORD          2020          2244        9.0   \n",
       "\n",
       "     CRS_ELAPSED_TIME  Week_of_month_Month_Start  Week_of_month_Month_end  \\\n",
       "44              163.0                          1                        0   \n",
       "45              195.0                          1                        0   \n",
       "144             162.0                          1                        0   \n",
       "145             199.0                          1                        0   \n",
       "156             204.0                          1                        0   \n",
       "\n",
       "     Day_of_week_1  Day_of_week_2  Day_of_week_3  Day_of_week_4  \\\n",
       "44               0              0              0              0   \n",
       "45               0              0              0              0   \n",
       "144              0              0              0              0   \n",
       "145              0              0              0              0   \n",
       "156              0              0              0              0   \n",
       "\n",
       "     Day_of_week_5  Day_of_week_6  season  \n",
       "44               0              1  Winter  \n",
       "45               0              1  Winter  \n",
       "144              0              1  Winter  \n",
       "145              0              1  Winter  \n",
       "156              0              1  Winter  "
      ]
     },
     "execution_count": 25,
     "metadata": {},
     "output_type": "execute_result"
    }
   ],
   "source": [
    "new_df17.head()"
   ]
  },
  {
   "cell_type": "markdown",
   "metadata": {},
   "source": [
    "Creating dummy variables for ORIGIN, DEST, and Season columns "
   ]
  },
  {
   "cell_type": "code",
   "execution_count": 26,
   "metadata": {},
   "outputs": [],
   "source": [
    "new_df17 = pd.get_dummies(new_df17, columns= ['ORIGIN','DEST','season'], drop_first=True)\n",
    "new_df18 = pd.get_dummies(new_df18, columns= ['ORIGIN','DEST','season'], drop_first=True)"
   ]
  },
  {
   "cell_type": "code",
   "execution_count": 27,
   "metadata": {},
   "outputs": [
    {
     "data": {
      "text/html": [
       "<div>\n",
       "<style scoped>\n",
       "    .dataframe tbody tr th:only-of-type {\n",
       "        vertical-align: middle;\n",
       "    }\n",
       "\n",
       "    .dataframe tbody tr th {\n",
       "        vertical-align: top;\n",
       "    }\n",
       "\n",
       "    .dataframe thead th {\n",
       "        text-align: right;\n",
       "    }\n",
       "</style>\n",
       "<table border=\"1\" class=\"dataframe\">\n",
       "  <thead>\n",
       "    <tr style=\"text-align: right;\">\n",
       "      <th></th>\n",
       "      <th>FL_DATE</th>\n",
       "      <th>CRS_DEP_TIME</th>\n",
       "      <th>CRS_ARR_TIME</th>\n",
       "      <th>ARR_DELAY</th>\n",
       "      <th>CRS_ELAPSED_TIME</th>\n",
       "      <th>Week_of_month_Month_Start</th>\n",
       "      <th>Week_of_month_Month_end</th>\n",
       "      <th>Day_of_week_1</th>\n",
       "      <th>Day_of_week_2</th>\n",
       "      <th>Day_of_week_3</th>\n",
       "      <th>...</th>\n",
       "      <th>ORIGIN_MIA</th>\n",
       "      <th>ORIGIN_ORD</th>\n",
       "      <th>ORIGIN_PHX</th>\n",
       "      <th>DEST_DFW</th>\n",
       "      <th>DEST_MIA</th>\n",
       "      <th>DEST_ORD</th>\n",
       "      <th>DEST_PHX</th>\n",
       "      <th>season_Spring</th>\n",
       "      <th>season_Summer</th>\n",
       "      <th>season_Winter</th>\n",
       "    </tr>\n",
       "  </thead>\n",
       "  <tbody>\n",
       "    <tr>\n",
       "      <th>44</th>\n",
       "      <td>2017-01-01</td>\n",
       "      <td>1730</td>\n",
       "      <td>2113</td>\n",
       "      <td>-11.0</td>\n",
       "      <td>163.0</td>\n",
       "      <td>1</td>\n",
       "      <td>0</td>\n",
       "      <td>0</td>\n",
       "      <td>0</td>\n",
       "      <td>0</td>\n",
       "      <td>...</td>\n",
       "      <td>0</td>\n",
       "      <td>0</td>\n",
       "      <td>0</td>\n",
       "      <td>0</td>\n",
       "      <td>1</td>\n",
       "      <td>0</td>\n",
       "      <td>0</td>\n",
       "      <td>0</td>\n",
       "      <td>0</td>\n",
       "      <td>1</td>\n",
       "    </tr>\n",
       "    <tr>\n",
       "      <th>45</th>\n",
       "      <td>2017-01-01</td>\n",
       "      <td>705</td>\n",
       "      <td>920</td>\n",
       "      <td>160.0</td>\n",
       "      <td>195.0</td>\n",
       "      <td>1</td>\n",
       "      <td>0</td>\n",
       "      <td>0</td>\n",
       "      <td>0</td>\n",
       "      <td>0</td>\n",
       "      <td>...</td>\n",
       "      <td>1</td>\n",
       "      <td>0</td>\n",
       "      <td>0</td>\n",
       "      <td>1</td>\n",
       "      <td>0</td>\n",
       "      <td>0</td>\n",
       "      <td>0</td>\n",
       "      <td>0</td>\n",
       "      <td>0</td>\n",
       "      <td>1</td>\n",
       "    </tr>\n",
       "    <tr>\n",
       "      <th>144</th>\n",
       "      <td>2017-01-01</td>\n",
       "      <td>1228</td>\n",
       "      <td>1610</td>\n",
       "      <td>25.0</td>\n",
       "      <td>162.0</td>\n",
       "      <td>1</td>\n",
       "      <td>0</td>\n",
       "      <td>0</td>\n",
       "      <td>0</td>\n",
       "      <td>0</td>\n",
       "      <td>...</td>\n",
       "      <td>0</td>\n",
       "      <td>0</td>\n",
       "      <td>0</td>\n",
       "      <td>0</td>\n",
       "      <td>1</td>\n",
       "      <td>0</td>\n",
       "      <td>0</td>\n",
       "      <td>0</td>\n",
       "      <td>0</td>\n",
       "      <td>1</td>\n",
       "    </tr>\n",
       "    <tr>\n",
       "      <th>145</th>\n",
       "      <td>2017-01-01</td>\n",
       "      <td>1826</td>\n",
       "      <td>2045</td>\n",
       "      <td>31.0</td>\n",
       "      <td>199.0</td>\n",
       "      <td>1</td>\n",
       "      <td>0</td>\n",
       "      <td>0</td>\n",
       "      <td>0</td>\n",
       "      <td>0</td>\n",
       "      <td>...</td>\n",
       "      <td>1</td>\n",
       "      <td>0</td>\n",
       "      <td>0</td>\n",
       "      <td>1</td>\n",
       "      <td>0</td>\n",
       "      <td>0</td>\n",
       "      <td>0</td>\n",
       "      <td>0</td>\n",
       "      <td>0</td>\n",
       "      <td>1</td>\n",
       "    </tr>\n",
       "    <tr>\n",
       "      <th>156</th>\n",
       "      <td>2017-01-01</td>\n",
       "      <td>2020</td>\n",
       "      <td>2244</td>\n",
       "      <td>9.0</td>\n",
       "      <td>204.0</td>\n",
       "      <td>1</td>\n",
       "      <td>0</td>\n",
       "      <td>0</td>\n",
       "      <td>0</td>\n",
       "      <td>0</td>\n",
       "      <td>...</td>\n",
       "      <td>1</td>\n",
       "      <td>0</td>\n",
       "      <td>0</td>\n",
       "      <td>0</td>\n",
       "      <td>0</td>\n",
       "      <td>1</td>\n",
       "      <td>0</td>\n",
       "      <td>0</td>\n",
       "      <td>0</td>\n",
       "      <td>1</td>\n",
       "    </tr>\n",
       "  </tbody>\n",
       "</table>\n",
       "<p>5 rows × 24 columns</p>\n",
       "</div>"
      ],
      "text/plain": [
       "        FL_DATE  CRS_DEP_TIME  CRS_ARR_TIME  ARR_DELAY  CRS_ELAPSED_TIME  \\\n",
       "44   2017-01-01          1730          2113      -11.0             163.0   \n",
       "45   2017-01-01           705           920      160.0             195.0   \n",
       "144  2017-01-01          1228          1610       25.0             162.0   \n",
       "145  2017-01-01          1826          2045       31.0             199.0   \n",
       "156  2017-01-01          2020          2244        9.0             204.0   \n",
       "\n",
       "     Week_of_month_Month_Start  Week_of_month_Month_end  Day_of_week_1  \\\n",
       "44                           1                        0              0   \n",
       "45                           1                        0              0   \n",
       "144                          1                        0              0   \n",
       "145                          1                        0              0   \n",
       "156                          1                        0              0   \n",
       "\n",
       "     Day_of_week_2  Day_of_week_3  ...  ORIGIN_MIA  ORIGIN_ORD  ORIGIN_PHX  \\\n",
       "44               0              0  ...           0           0           0   \n",
       "45               0              0  ...           1           0           0   \n",
       "144              0              0  ...           0           0           0   \n",
       "145              0              0  ...           1           0           0   \n",
       "156              0              0  ...           1           0           0   \n",
       "\n",
       "     DEST_DFW  DEST_MIA  DEST_ORD  DEST_PHX  season_Spring  season_Summer  \\\n",
       "44          0         1         0         0              0              0   \n",
       "45          1         0         0         0              0              0   \n",
       "144         0         1         0         0              0              0   \n",
       "145         1         0         0         0              0              0   \n",
       "156         0         0         1         0              0              0   \n",
       "\n",
       "     season_Winter  \n",
       "44               1  \n",
       "45               1  \n",
       "144              1  \n",
       "145              1  \n",
       "156              1  \n",
       "\n",
       "[5 rows x 24 columns]"
      ]
     },
     "execution_count": 27,
     "metadata": {},
     "output_type": "execute_result"
    }
   ],
   "source": [
    "new_df17.head()"
   ]
  },
  {
   "cell_type": "markdown",
   "metadata": {},
   "source": [
    "As per the FAA/DOT standards, a flighs is considered to be delayed if it surpasses the minimum threshold of 14.59 mins.\n",
    "So we are coverting the 'ARR_DELAY' column into Delayed/Not Delayed (1/0) and handle it as a classification problem"
   ]
  },
  {
   "cell_type": "code",
   "execution_count": 28,
   "metadata": {},
   "outputs": [],
   "source": [
    "new_df17['ARR_DELAY'] = new_df17['ARR_DELAY'].map(lambda y : 1 if y >15.0 else 0).astype(int)\n",
    "new_df18['ARR_DELAY'] = new_df18['ARR_DELAY'].map(lambda y : 1 if y >15.0 else 0).astype(int)"
   ]
  },
  {
   "cell_type": "code",
   "execution_count": 29,
   "metadata": {},
   "outputs": [
    {
     "data": {
      "text/plain": [
       "array([0, 1])"
      ]
     },
     "execution_count": 29,
     "metadata": {},
     "output_type": "execute_result"
    }
   ],
   "source": [
    "new_df17.ARR_DELAY.unique() #1 is delayed and 0 is not delayed"
   ]
  },
  {
   "cell_type": "markdown",
   "metadata": {},
   "source": [
    "Now we also considered dividing the time of the day into 6 subparts where we can focus more on the specific \n",
    "time of the day if the flight is going to get delayed on the specific time of the day."
   ]
  },
  {
   "cell_type": "code",
   "execution_count": 30,
   "metadata": {},
   "outputs": [],
   "source": [
    "def t(x):\n",
    "    if (x>400)&(x<=800):\n",
    "        return('Early Morning')\n",
    "    elif (x>800) & (x<=1200):\n",
    "        return('Morning')\n",
    "    elif (x>1200) & (x<=1600):\n",
    "        return('Afternoon')\n",
    "    elif (x>1600)&(x<=2000):\n",
    "        return('Evening')\n",
    "    elif (x>2000)&(x<=2400):\n",
    "        return('Night')\n",
    "    elif(x<=400):\n",
    "        return('Late Night')"
   ]
  },
  {
   "cell_type": "markdown",
   "metadata": {},
   "source": [
    "Applying above function to our CRS_DEP_TIME, CRS_ARR_TIME columns"
   ]
  },
  {
   "cell_type": "code",
   "execution_count": 31,
   "metadata": {},
   "outputs": [],
   "source": [
    "new_df17['CRS_DEP_TIME'],new_df17['CRS_ARR_TIME'] = new_df17['CRS_DEP_TIME'].apply(t),new_df17['CRS_ARR_TIME'].apply(t)\n",
    "new_df18['CRS_DEP_TIME'],new_df18['CRS_ARR_TIME'] = new_df18['CRS_DEP_TIME'].apply(t),new_df18['CRS_ARR_TIME'].apply(t)"
   ]
  },
  {
   "cell_type": "code",
   "execution_count": 32,
   "metadata": {},
   "outputs": [
    {
     "data": {
      "text/html": [
       "<div>\n",
       "<style scoped>\n",
       "    .dataframe tbody tr th:only-of-type {\n",
       "        vertical-align: middle;\n",
       "    }\n",
       "\n",
       "    .dataframe tbody tr th {\n",
       "        vertical-align: top;\n",
       "    }\n",
       "\n",
       "    .dataframe thead th {\n",
       "        text-align: right;\n",
       "    }\n",
       "</style>\n",
       "<table border=\"1\" class=\"dataframe\">\n",
       "  <thead>\n",
       "    <tr style=\"text-align: right;\">\n",
       "      <th></th>\n",
       "      <th>FL_DATE</th>\n",
       "      <th>CRS_DEP_TIME</th>\n",
       "      <th>CRS_ARR_TIME</th>\n",
       "      <th>ARR_DELAY</th>\n",
       "      <th>CRS_ELAPSED_TIME</th>\n",
       "      <th>Week_of_month_Month_Start</th>\n",
       "      <th>Week_of_month_Month_end</th>\n",
       "      <th>Day_of_week_1</th>\n",
       "      <th>Day_of_week_2</th>\n",
       "      <th>Day_of_week_3</th>\n",
       "      <th>...</th>\n",
       "      <th>ORIGIN_MIA</th>\n",
       "      <th>ORIGIN_ORD</th>\n",
       "      <th>ORIGIN_PHX</th>\n",
       "      <th>DEST_DFW</th>\n",
       "      <th>DEST_MIA</th>\n",
       "      <th>DEST_ORD</th>\n",
       "      <th>DEST_PHX</th>\n",
       "      <th>season_Spring</th>\n",
       "      <th>season_Summer</th>\n",
       "      <th>season_Winter</th>\n",
       "    </tr>\n",
       "  </thead>\n",
       "  <tbody>\n",
       "    <tr>\n",
       "      <th>44</th>\n",
       "      <td>2017-01-01</td>\n",
       "      <td>Evening</td>\n",
       "      <td>Night</td>\n",
       "      <td>0</td>\n",
       "      <td>163.0</td>\n",
       "      <td>1</td>\n",
       "      <td>0</td>\n",
       "      <td>0</td>\n",
       "      <td>0</td>\n",
       "      <td>0</td>\n",
       "      <td>...</td>\n",
       "      <td>0</td>\n",
       "      <td>0</td>\n",
       "      <td>0</td>\n",
       "      <td>0</td>\n",
       "      <td>1</td>\n",
       "      <td>0</td>\n",
       "      <td>0</td>\n",
       "      <td>0</td>\n",
       "      <td>0</td>\n",
       "      <td>1</td>\n",
       "    </tr>\n",
       "    <tr>\n",
       "      <th>45</th>\n",
       "      <td>2017-01-01</td>\n",
       "      <td>Early Morning</td>\n",
       "      <td>Morning</td>\n",
       "      <td>1</td>\n",
       "      <td>195.0</td>\n",
       "      <td>1</td>\n",
       "      <td>0</td>\n",
       "      <td>0</td>\n",
       "      <td>0</td>\n",
       "      <td>0</td>\n",
       "      <td>...</td>\n",
       "      <td>1</td>\n",
       "      <td>0</td>\n",
       "      <td>0</td>\n",
       "      <td>1</td>\n",
       "      <td>0</td>\n",
       "      <td>0</td>\n",
       "      <td>0</td>\n",
       "      <td>0</td>\n",
       "      <td>0</td>\n",
       "      <td>1</td>\n",
       "    </tr>\n",
       "    <tr>\n",
       "      <th>144</th>\n",
       "      <td>2017-01-01</td>\n",
       "      <td>Afternoon</td>\n",
       "      <td>Evening</td>\n",
       "      <td>1</td>\n",
       "      <td>162.0</td>\n",
       "      <td>1</td>\n",
       "      <td>0</td>\n",
       "      <td>0</td>\n",
       "      <td>0</td>\n",
       "      <td>0</td>\n",
       "      <td>...</td>\n",
       "      <td>0</td>\n",
       "      <td>0</td>\n",
       "      <td>0</td>\n",
       "      <td>0</td>\n",
       "      <td>1</td>\n",
       "      <td>0</td>\n",
       "      <td>0</td>\n",
       "      <td>0</td>\n",
       "      <td>0</td>\n",
       "      <td>1</td>\n",
       "    </tr>\n",
       "    <tr>\n",
       "      <th>145</th>\n",
       "      <td>2017-01-01</td>\n",
       "      <td>Evening</td>\n",
       "      <td>Night</td>\n",
       "      <td>1</td>\n",
       "      <td>199.0</td>\n",
       "      <td>1</td>\n",
       "      <td>0</td>\n",
       "      <td>0</td>\n",
       "      <td>0</td>\n",
       "      <td>0</td>\n",
       "      <td>...</td>\n",
       "      <td>1</td>\n",
       "      <td>0</td>\n",
       "      <td>0</td>\n",
       "      <td>1</td>\n",
       "      <td>0</td>\n",
       "      <td>0</td>\n",
       "      <td>0</td>\n",
       "      <td>0</td>\n",
       "      <td>0</td>\n",
       "      <td>1</td>\n",
       "    </tr>\n",
       "    <tr>\n",
       "      <th>156</th>\n",
       "      <td>2017-01-01</td>\n",
       "      <td>Night</td>\n",
       "      <td>Night</td>\n",
       "      <td>0</td>\n",
       "      <td>204.0</td>\n",
       "      <td>1</td>\n",
       "      <td>0</td>\n",
       "      <td>0</td>\n",
       "      <td>0</td>\n",
       "      <td>0</td>\n",
       "      <td>...</td>\n",
       "      <td>1</td>\n",
       "      <td>0</td>\n",
       "      <td>0</td>\n",
       "      <td>0</td>\n",
       "      <td>0</td>\n",
       "      <td>1</td>\n",
       "      <td>0</td>\n",
       "      <td>0</td>\n",
       "      <td>0</td>\n",
       "      <td>1</td>\n",
       "    </tr>\n",
       "  </tbody>\n",
       "</table>\n",
       "<p>5 rows × 24 columns</p>\n",
       "</div>"
      ],
      "text/plain": [
       "        FL_DATE   CRS_DEP_TIME CRS_ARR_TIME  ARR_DELAY  CRS_ELAPSED_TIME  \\\n",
       "44   2017-01-01        Evening        Night          0             163.0   \n",
       "45   2017-01-01  Early Morning      Morning          1             195.0   \n",
       "144  2017-01-01      Afternoon      Evening          1             162.0   \n",
       "145  2017-01-01        Evening        Night          1             199.0   \n",
       "156  2017-01-01          Night        Night          0             204.0   \n",
       "\n",
       "     Week_of_month_Month_Start  Week_of_month_Month_end  Day_of_week_1  \\\n",
       "44                           1                        0              0   \n",
       "45                           1                        0              0   \n",
       "144                          1                        0              0   \n",
       "145                          1                        0              0   \n",
       "156                          1                        0              0   \n",
       "\n",
       "     Day_of_week_2  Day_of_week_3  ...  ORIGIN_MIA  ORIGIN_ORD  ORIGIN_PHX  \\\n",
       "44               0              0  ...           0           0           0   \n",
       "45               0              0  ...           1           0           0   \n",
       "144              0              0  ...           0           0           0   \n",
       "145              0              0  ...           1           0           0   \n",
       "156              0              0  ...           1           0           0   \n",
       "\n",
       "     DEST_DFW  DEST_MIA  DEST_ORD  DEST_PHX  season_Spring  season_Summer  \\\n",
       "44          0         1         0         0              0              0   \n",
       "45          1         0         0         0              0              0   \n",
       "144         0         1         0         0              0              0   \n",
       "145         1         0         0         0              0              0   \n",
       "156         0         0         1         0              0              0   \n",
       "\n",
       "     season_Winter  \n",
       "44               1  \n",
       "45               1  \n",
       "144              1  \n",
       "145              1  \n",
       "156              1  \n",
       "\n",
       "[5 rows x 24 columns]"
      ]
     },
     "execution_count": 32,
     "metadata": {},
     "output_type": "execute_result"
    }
   ],
   "source": [
    "new_df17.head()"
   ]
  },
  {
   "cell_type": "markdown",
   "metadata": {},
   "source": [
    "Creating dummy variables for the different time slots of the day"
   ]
  },
  {
   "cell_type": "code",
   "execution_count": 33,
   "metadata": {},
   "outputs": [],
   "source": [
    "new_df17 = pd.get_dummies(new_df17, columns= ['CRS_DEP_TIME','CRS_ARR_TIME'], drop_first=True)\n",
    "new_df18 = pd.get_dummies(new_df18, columns= ['CRS_DEP_TIME','CRS_ARR_TIME'], drop_first=True)"
   ]
  },
  {
   "cell_type": "code",
   "execution_count": 34,
   "metadata": {},
   "outputs": [
    {
     "data": {
      "text/html": [
       "<div>\n",
       "<style scoped>\n",
       "    .dataframe tbody tr th:only-of-type {\n",
       "        vertical-align: middle;\n",
       "    }\n",
       "\n",
       "    .dataframe tbody tr th {\n",
       "        vertical-align: top;\n",
       "    }\n",
       "\n",
       "    .dataframe thead th {\n",
       "        text-align: right;\n",
       "    }\n",
       "</style>\n",
       "<table border=\"1\" class=\"dataframe\">\n",
       "  <thead>\n",
       "    <tr style=\"text-align: right;\">\n",
       "      <th></th>\n",
       "      <th>FL_DATE</th>\n",
       "      <th>ARR_DELAY</th>\n",
       "      <th>CRS_ELAPSED_TIME</th>\n",
       "      <th>Week_of_month_Month_Start</th>\n",
       "      <th>Week_of_month_Month_end</th>\n",
       "      <th>Day_of_week_1</th>\n",
       "      <th>Day_of_week_2</th>\n",
       "      <th>Day_of_week_3</th>\n",
       "      <th>Day_of_week_4</th>\n",
       "      <th>Day_of_week_5</th>\n",
       "      <th>...</th>\n",
       "      <th>CRS_DEP_TIME_Early Morning</th>\n",
       "      <th>CRS_DEP_TIME_Evening</th>\n",
       "      <th>CRS_DEP_TIME_Late Night</th>\n",
       "      <th>CRS_DEP_TIME_Morning</th>\n",
       "      <th>CRS_DEP_TIME_Night</th>\n",
       "      <th>CRS_ARR_TIME_Early Morning</th>\n",
       "      <th>CRS_ARR_TIME_Evening</th>\n",
       "      <th>CRS_ARR_TIME_Late Night</th>\n",
       "      <th>CRS_ARR_TIME_Morning</th>\n",
       "      <th>CRS_ARR_TIME_Night</th>\n",
       "    </tr>\n",
       "  </thead>\n",
       "  <tbody>\n",
       "    <tr>\n",
       "      <th>44</th>\n",
       "      <td>2017-01-01</td>\n",
       "      <td>0</td>\n",
       "      <td>163.0</td>\n",
       "      <td>1</td>\n",
       "      <td>0</td>\n",
       "      <td>0</td>\n",
       "      <td>0</td>\n",
       "      <td>0</td>\n",
       "      <td>0</td>\n",
       "      <td>0</td>\n",
       "      <td>...</td>\n",
       "      <td>0</td>\n",
       "      <td>1</td>\n",
       "      <td>0</td>\n",
       "      <td>0</td>\n",
       "      <td>0</td>\n",
       "      <td>0</td>\n",
       "      <td>0</td>\n",
       "      <td>0</td>\n",
       "      <td>0</td>\n",
       "      <td>1</td>\n",
       "    </tr>\n",
       "    <tr>\n",
       "      <th>45</th>\n",
       "      <td>2017-01-01</td>\n",
       "      <td>1</td>\n",
       "      <td>195.0</td>\n",
       "      <td>1</td>\n",
       "      <td>0</td>\n",
       "      <td>0</td>\n",
       "      <td>0</td>\n",
       "      <td>0</td>\n",
       "      <td>0</td>\n",
       "      <td>0</td>\n",
       "      <td>...</td>\n",
       "      <td>1</td>\n",
       "      <td>0</td>\n",
       "      <td>0</td>\n",
       "      <td>0</td>\n",
       "      <td>0</td>\n",
       "      <td>0</td>\n",
       "      <td>0</td>\n",
       "      <td>0</td>\n",
       "      <td>1</td>\n",
       "      <td>0</td>\n",
       "    </tr>\n",
       "    <tr>\n",
       "      <th>144</th>\n",
       "      <td>2017-01-01</td>\n",
       "      <td>1</td>\n",
       "      <td>162.0</td>\n",
       "      <td>1</td>\n",
       "      <td>0</td>\n",
       "      <td>0</td>\n",
       "      <td>0</td>\n",
       "      <td>0</td>\n",
       "      <td>0</td>\n",
       "      <td>0</td>\n",
       "      <td>...</td>\n",
       "      <td>0</td>\n",
       "      <td>0</td>\n",
       "      <td>0</td>\n",
       "      <td>0</td>\n",
       "      <td>0</td>\n",
       "      <td>0</td>\n",
       "      <td>1</td>\n",
       "      <td>0</td>\n",
       "      <td>0</td>\n",
       "      <td>0</td>\n",
       "    </tr>\n",
       "    <tr>\n",
       "      <th>145</th>\n",
       "      <td>2017-01-01</td>\n",
       "      <td>1</td>\n",
       "      <td>199.0</td>\n",
       "      <td>1</td>\n",
       "      <td>0</td>\n",
       "      <td>0</td>\n",
       "      <td>0</td>\n",
       "      <td>0</td>\n",
       "      <td>0</td>\n",
       "      <td>0</td>\n",
       "      <td>...</td>\n",
       "      <td>0</td>\n",
       "      <td>1</td>\n",
       "      <td>0</td>\n",
       "      <td>0</td>\n",
       "      <td>0</td>\n",
       "      <td>0</td>\n",
       "      <td>0</td>\n",
       "      <td>0</td>\n",
       "      <td>0</td>\n",
       "      <td>1</td>\n",
       "    </tr>\n",
       "    <tr>\n",
       "      <th>156</th>\n",
       "      <td>2017-01-01</td>\n",
       "      <td>0</td>\n",
       "      <td>204.0</td>\n",
       "      <td>1</td>\n",
       "      <td>0</td>\n",
       "      <td>0</td>\n",
       "      <td>0</td>\n",
       "      <td>0</td>\n",
       "      <td>0</td>\n",
       "      <td>0</td>\n",
       "      <td>...</td>\n",
       "      <td>0</td>\n",
       "      <td>0</td>\n",
       "      <td>0</td>\n",
       "      <td>0</td>\n",
       "      <td>1</td>\n",
       "      <td>0</td>\n",
       "      <td>0</td>\n",
       "      <td>0</td>\n",
       "      <td>0</td>\n",
       "      <td>1</td>\n",
       "    </tr>\n",
       "  </tbody>\n",
       "</table>\n",
       "<p>5 rows × 32 columns</p>\n",
       "</div>"
      ],
      "text/plain": [
       "        FL_DATE  ARR_DELAY  CRS_ELAPSED_TIME  Week_of_month_Month_Start  \\\n",
       "44   2017-01-01          0             163.0                          1   \n",
       "45   2017-01-01          1             195.0                          1   \n",
       "144  2017-01-01          1             162.0                          1   \n",
       "145  2017-01-01          1             199.0                          1   \n",
       "156  2017-01-01          0             204.0                          1   \n",
       "\n",
       "     Week_of_month_Month_end  Day_of_week_1  Day_of_week_2  Day_of_week_3  \\\n",
       "44                         0              0              0              0   \n",
       "45                         0              0              0              0   \n",
       "144                        0              0              0              0   \n",
       "145                        0              0              0              0   \n",
       "156                        0              0              0              0   \n",
       "\n",
       "     Day_of_week_4  Day_of_week_5  ...  CRS_DEP_TIME_Early Morning  \\\n",
       "44               0              0  ...                           0   \n",
       "45               0              0  ...                           1   \n",
       "144              0              0  ...                           0   \n",
       "145              0              0  ...                           0   \n",
       "156              0              0  ...                           0   \n",
       "\n",
       "     CRS_DEP_TIME_Evening  CRS_DEP_TIME_Late Night  CRS_DEP_TIME_Morning  \\\n",
       "44                      1                        0                     0   \n",
       "45                      0                        0                     0   \n",
       "144                     0                        0                     0   \n",
       "145                     1                        0                     0   \n",
       "156                     0                        0                     0   \n",
       "\n",
       "     CRS_DEP_TIME_Night  CRS_ARR_TIME_Early Morning  CRS_ARR_TIME_Evening  \\\n",
       "44                    0                           0                     0   \n",
       "45                    0                           0                     0   \n",
       "144                   0                           0                     1   \n",
       "145                   0                           0                     0   \n",
       "156                   1                           0                     0   \n",
       "\n",
       "     CRS_ARR_TIME_Late Night  CRS_ARR_TIME_Morning  CRS_ARR_TIME_Night  \n",
       "44                         0                     0                   1  \n",
       "45                         0                     1                   0  \n",
       "144                        0                     0                   0  \n",
       "145                        0                     0                   1  \n",
       "156                        0                     0                   1  \n",
       "\n",
       "[5 rows x 32 columns]"
      ]
     },
     "execution_count": 34,
     "metadata": {},
     "output_type": "execute_result"
    }
   ],
   "source": [
    "new_df17.head()"
   ]
  },
  {
   "cell_type": "markdown",
   "metadata": {},
   "source": [
    "Getting rid of the 'FL_DATE' column which has become redundant now for further analysis"
   ]
  },
  {
   "cell_type": "code",
   "execution_count": 35,
   "metadata": {},
   "outputs": [],
   "source": [
    "new_df17 = new_df17.drop(columns = ['FL_DATE'])\n",
    "new_df18 = new_df18.drop(columns = ['FL_DATE'])"
   ]
  },
  {
   "cell_type": "code",
   "execution_count": 36,
   "metadata": {},
   "outputs": [
    {
     "data": {
      "text/plain": [
       "(65711, 31)"
      ]
     },
     "execution_count": 36,
     "metadata": {},
     "output_type": "execute_result"
    }
   ],
   "source": [
    "new_df17.shape"
   ]
  },
  {
   "cell_type": "markdown",
   "metadata": {},
   "source": [
    "#### Now we are checking for the number of Occurrence for delayed(positive class) and not delayed class"
   ]
  },
  {
   "cell_type": "code",
   "execution_count": 37,
   "metadata": {},
   "outputs": [
    {
     "name": "stdout",
     "output_type": "stream",
     "text": [
      "Delayed : 11895\n",
      "Ontime:  53816\n",
      "Percent of Positives:  0.18101992056124544\n",
      "otherRev: 0\n"
     ]
    }
   ],
   "source": [
    "posRev=0\n",
    "negRev=0\n",
    "otherRev=0\n",
    "\n",
    "for i in new_df17['ARR_DELAY']:\n",
    "    if  i == 1:\n",
    "        posRev +=1\n",
    "    elif i == 0:\n",
    "        negRev +=1\n",
    "    else:\n",
    "        otherRev +=1\n",
    "\n",
    "print(\"Delayed :\", posRev)\n",
    "print(\"Ontime: \",negRev )\n",
    "        \n",
    "print(\"Percent of Positives: \", (posRev/(negRev+posRev)))\n",
    "print(\"otherRev:\", otherRev)"
   ]
  },
  {
   "cell_type": "markdown",
   "metadata": {},
   "source": [
    "As we know now that we have 18% of the records which tunred out to be delayed. Lets visualize it by a histogram."
   ]
  },
  {
   "cell_type": "code",
   "execution_count": 38,
   "metadata": {},
   "outputs": [
    {
     "data": {
      "image/png": "[encoded data removed]",
      "text/plain": [
       "<Figure size 432x288 with 1 Axes>"
      ]
     },
     "metadata": {
      "needs_background": "light"
     },
     "output_type": "display_data"
    }
   ],
   "source": [
    "plt.hist(new_df17['ARR_DELAY'])\n",
    "plt.rcParams[\"figure.figsize\"] = (4,5)\n",
    "plt.xlabel(\"Not delayed vs Delayed\")\n",
    "plt.ylabel(\"Number of records\")\n",
    "plt.show()"
   ]
  },
  {
   "cell_type": "markdown",
   "metadata": {},
   "source": [
    "We have noticed that the data has class imbalance problem. Lets deal with the imbalace in next steps."
   ]
  },
  {
   "cell_type": "markdown",
   "metadata": {},
   "source": [
    "### Handling Class imbalance in the data"
   ]
  },
  {
   "cell_type": "markdown",
   "metadata": {},
   "source": [
    "The data is imbalanced, we are applying the SMOTE() oversampling technique to balance the dataset"
   ]
  },
  {
   "cell_type": "code",
   "execution_count": 39,
   "metadata": {},
   "outputs": [],
   "source": [
    "from imblearn.over_sampling import SMOTE"
   ]
  },
  {
   "cell_type": "markdown",
   "metadata": {},
   "source": [
    "We are oversampling the minority class to be to 60% of the majority class as below"
   ]
  },
  {
   "cell_type": "code",
   "execution_count": 40,
   "metadata": {},
   "outputs": [],
   "source": [
    "sm = SMOTE(random_state=42 , sampling_strategy = 0.6)\n",
    "new_df17_feat = new_df17.drop(columns = 'ARR_DELAY')\n",
    "new_df17_tg = new_df17.ARR_DELAY"
   ]
  },
  {
   "cell_type": "code",
   "execution_count": 41,
   "metadata": {},
   "outputs": [],
   "source": [
    "x_res, y_res = sm.fit_resample(new_df17_feat, new_df17_tg)"
   ]
  },
  {
   "cell_type": "code",
   "execution_count": 42,
   "metadata": {},
   "outputs": [
    {
     "data": {
      "text/plain": [
       "(86105, 30)"
      ]
     },
     "execution_count": 42,
     "metadata": {},
     "output_type": "execute_result"
    }
   ],
   "source": [
    "x_res.shape #checking the shape of the resampled data"
   ]
  },
  {
   "cell_type": "code",
   "execution_count": 43,
   "metadata": {},
   "outputs": [
    {
     "data": {
      "image/png": "[encoded data removed]",
      "text/plain": [
       "<Figure size 432x360 with 1 Axes>"
      ]
     },
     "metadata": {
      "needs_background": "light"
     },
     "output_type": "display_data"
    }
   ],
   "source": [
    "plt.rcParams[\"figure.figsize\"] = (6,5)\n",
    "plt.hist(y_res)\n",
    "plt.xlabel(\"Not delayed vs Delayed\")\n",
    "plt.ylabel(\"Number of records\")\n",
    "plt.show()"
   ]
  },
  {
   "cell_type": "code",
   "execution_count": 44,
   "metadata": {},
   "outputs": [],
   "source": [
    "res_data = x_res\n",
    "res_data['ARR_DELAY'] = y_res"
   ]
  },
  {
   "cell_type": "code",
   "execution_count": 45,
   "metadata": {},
   "outputs": [],
   "source": [
    "# Shuffling all the resampled data for randomness"
   ]
  },
  {
   "cell_type": "code",
   "execution_count": 46,
   "metadata": {
    "scrolled": true
   },
   "outputs": [
    {
     "data": {
      "text/html": [
       "<div>\n",
       "<style scoped>\n",
       "    .dataframe tbody tr th:only-of-type {\n",
       "        vertical-align: middle;\n",
       "    }\n",
       "\n",
       "    .dataframe tbody tr th {\n",
       "        vertical-align: top;\n",
       "    }\n",
       "\n",
       "    .dataframe thead th {\n",
       "        text-align: right;\n",
       "    }\n",
       "</style>\n",
       "<table border=\"1\" class=\"dataframe\">\n",
       "  <thead>\n",
       "    <tr style=\"text-align: right;\">\n",
       "      <th></th>\n",
       "      <th>CRS_ELAPSED_TIME</th>\n",
       "      <th>Week_of_month_Month_Start</th>\n",
       "      <th>Week_of_month_Month_end</th>\n",
       "      <th>Day_of_week_1</th>\n",
       "      <th>Day_of_week_2</th>\n",
       "      <th>Day_of_week_3</th>\n",
       "      <th>Day_of_week_4</th>\n",
       "      <th>Day_of_week_5</th>\n",
       "      <th>Day_of_week_6</th>\n",
       "      <th>ORIGIN_DFW</th>\n",
       "      <th>...</th>\n",
       "      <th>CRS_DEP_TIME_Evening</th>\n",
       "      <th>CRS_DEP_TIME_Late Night</th>\n",
       "      <th>CRS_DEP_TIME_Morning</th>\n",
       "      <th>CRS_DEP_TIME_Night</th>\n",
       "      <th>CRS_ARR_TIME_Early Morning</th>\n",
       "      <th>CRS_ARR_TIME_Evening</th>\n",
       "      <th>CRS_ARR_TIME_Late Night</th>\n",
       "      <th>CRS_ARR_TIME_Morning</th>\n",
       "      <th>CRS_ARR_TIME_Night</th>\n",
       "      <th>ARR_DELAY</th>\n",
       "    </tr>\n",
       "  </thead>\n",
       "  <tbody>\n",
       "    <tr>\n",
       "      <th>19818</th>\n",
       "      <td>164.0</td>\n",
       "      <td>0</td>\n",
       "      <td>1</td>\n",
       "      <td>0</td>\n",
       "      <td>0</td>\n",
       "      <td>0</td>\n",
       "      <td>1</td>\n",
       "      <td>0</td>\n",
       "      <td>0</td>\n",
       "      <td>1</td>\n",
       "      <td>...</td>\n",
       "      <td>0</td>\n",
       "      <td>0</td>\n",
       "      <td>0</td>\n",
       "      <td>0</td>\n",
       "      <td>1</td>\n",
       "      <td>0</td>\n",
       "      <td>0</td>\n",
       "      <td>0</td>\n",
       "      <td>0</td>\n",
       "      <td>0</td>\n",
       "    </tr>\n",
       "    <tr>\n",
       "      <th>27051</th>\n",
       "      <td>287.0</td>\n",
       "      <td>0</td>\n",
       "      <td>1</td>\n",
       "      <td>0</td>\n",
       "      <td>1</td>\n",
       "      <td>0</td>\n",
       "      <td>0</td>\n",
       "      <td>0</td>\n",
       "      <td>0</td>\n",
       "      <td>0</td>\n",
       "      <td>...</td>\n",
       "      <td>0</td>\n",
       "      <td>0</td>\n",
       "      <td>0</td>\n",
       "      <td>0</td>\n",
       "      <td>0</td>\n",
       "      <td>0</td>\n",
       "      <td>0</td>\n",
       "      <td>1</td>\n",
       "      <td>0</td>\n",
       "      <td>0</td>\n",
       "    </tr>\n",
       "    <tr>\n",
       "      <th>61528</th>\n",
       "      <td>200.0</td>\n",
       "      <td>1</td>\n",
       "      <td>0</td>\n",
       "      <td>0</td>\n",
       "      <td>0</td>\n",
       "      <td>0</td>\n",
       "      <td>0</td>\n",
       "      <td>1</td>\n",
       "      <td>0</td>\n",
       "      <td>0</td>\n",
       "      <td>...</td>\n",
       "      <td>1</td>\n",
       "      <td>0</td>\n",
       "      <td>0</td>\n",
       "      <td>0</td>\n",
       "      <td>0</td>\n",
       "      <td>0</td>\n",
       "      <td>0</td>\n",
       "      <td>0</td>\n",
       "      <td>1</td>\n",
       "      <td>0</td>\n",
       "    </tr>\n",
       "    <tr>\n",
       "      <th>85556</th>\n",
       "      <td>159.0</td>\n",
       "      <td>0</td>\n",
       "      <td>1</td>\n",
       "      <td>0</td>\n",
       "      <td>0</td>\n",
       "      <td>0</td>\n",
       "      <td>0</td>\n",
       "      <td>0</td>\n",
       "      <td>0</td>\n",
       "      <td>0</td>\n",
       "      <td>...</td>\n",
       "      <td>0</td>\n",
       "      <td>0</td>\n",
       "      <td>1</td>\n",
       "      <td>0</td>\n",
       "      <td>0</td>\n",
       "      <td>0</td>\n",
       "      <td>0</td>\n",
       "      <td>0</td>\n",
       "      <td>0</td>\n",
       "      <td>1</td>\n",
       "    </tr>\n",
       "    <tr>\n",
       "      <th>57176</th>\n",
       "      <td>170.0</td>\n",
       "      <td>0</td>\n",
       "      <td>0</td>\n",
       "      <td>1</td>\n",
       "      <td>0</td>\n",
       "      <td>0</td>\n",
       "      <td>0</td>\n",
       "      <td>0</td>\n",
       "      <td>0</td>\n",
       "      <td>1</td>\n",
       "      <td>...</td>\n",
       "      <td>0</td>\n",
       "      <td>0</td>\n",
       "      <td>0</td>\n",
       "      <td>0</td>\n",
       "      <td>0</td>\n",
       "      <td>1</td>\n",
       "      <td>0</td>\n",
       "      <td>0</td>\n",
       "      <td>0</td>\n",
       "      <td>0</td>\n",
       "    </tr>\n",
       "  </tbody>\n",
       "</table>\n",
       "<p>5 rows × 31 columns</p>\n",
       "</div>"
      ],
      "text/plain": [
       "       CRS_ELAPSED_TIME  Week_of_month_Month_Start  Week_of_month_Month_end  \\\n",
       "19818             164.0                          0                        1   \n",
       "27051             287.0                          0                        1   \n",
       "61528             200.0                          1                        0   \n",
       "85556             159.0                          0                        1   \n",
       "57176             170.0                          0                        0   \n",
       "\n",
       "       Day_of_week_1  Day_of_week_2  Day_of_week_3  Day_of_week_4  \\\n",
       "19818              0              0              0              1   \n",
       "27051              0              1              0              0   \n",
       "61528              0              0              0              0   \n",
       "85556              0              0              0              0   \n",
       "57176              1              0              0              0   \n",
       "\n",
       "       Day_of_week_5  Day_of_week_6  ORIGIN_DFW  ...  CRS_DEP_TIME_Evening  \\\n",
       "19818              0              0           1  ...                     0   \n",
       "27051              0              0           0  ...                     0   \n",
       "61528              1              0           0  ...                     1   \n",
       "85556              0              0           0  ...                     0   \n",
       "57176              0              0           1  ...                     0   \n",
       "\n",
       "       CRS_DEP_TIME_Late Night  CRS_DEP_TIME_Morning  CRS_DEP_TIME_Night  \\\n",
       "19818                        0                     0                   0   \n",
       "27051                        0                     0                   0   \n",
       "61528                        0                     0                   0   \n",
       "85556                        0                     1                   0   \n",
       "57176                        0                     0                   0   \n",
       "\n",
       "       CRS_ARR_TIME_Early Morning  CRS_ARR_TIME_Evening  \\\n",
       "19818                           1                     0   \n",
       "27051                           0                     0   \n",
       "61528                           0                     0   \n",
       "85556                           0                     0   \n",
       "57176                           0                     1   \n",
       "\n",
       "       CRS_ARR_TIME_Late Night  CRS_ARR_TIME_Morning  CRS_ARR_TIME_Night  \\\n",
       "19818                        0                     0                   0   \n",
       "27051                        0                     1                   0   \n",
       "61528                        0                     0                   1   \n",
       "85556                        0                     0                   0   \n",
       "57176                        0                     0                   0   \n",
       "\n",
       "       ARR_DELAY  \n",
       "19818          0  \n",
       "27051          0  \n",
       "61528          0  \n",
       "85556          1  \n",
       "57176          0  \n",
       "\n",
       "[5 rows x 31 columns]"
      ]
     },
     "execution_count": 46,
     "metadata": {},
     "output_type": "execute_result"
    }
   ],
   "source": [
    "from sklearn.utils import shuffle\n",
    "data = shuffle(res_data).copy()\n",
    "data.head()"
   ]
  },
  {
   "cell_type": "markdown",
   "metadata": {},
   "source": [
    "We have one column 'CRS_ELAPSED_TIME' which is in minutes. So we have scaled the column with StandardScaler"
   ]
  },
  {
   "cell_type": "code",
   "execution_count": 47,
   "metadata": {},
   "outputs": [],
   "source": [
    "from sklearn.preprocessing import StandardScaler\n",
    "scaler = StandardScaler()\n",
    "data['CRS_ELAPSED_TIME'] = scaler.fit_transform(data[['CRS_ELAPSED_TIME']])\n",
    "new_df18['CRS_ELAPSED_TIME'] = scaler.fit_transform(new_df18[['CRS_ELAPSED_TIME']])"
   ]
  },
  {
   "cell_type": "markdown",
   "metadata": {},
   "source": [
    "### Defining features and target"
   ]
  },
  {
   "cell_type": "code",
   "execution_count": 48,
   "metadata": {},
   "outputs": [],
   "source": [
    "# this will our training and validation dataset\n",
    "data_feat = data.drop(columns=['ARR_DELAY'])\n",
    "data_tg = data['ARR_DELAY']\n",
    "\n",
    "#this will our unseen test data for 2018\n",
    "data_18 = new_df18.drop(columns=['ARR_DELAY'])\n",
    "target_18 = new_df18['ARR_DELAY']"
   ]
  },
  {
   "cell_type": "markdown",
   "metadata": {},
   "source": [
    "### Checking feature importances"
   ]
  },
  {
   "cell_type": "markdown",
   "metadata": {},
   "source": [
    "We are checking checking feature importances with SelectFromModel"
   ]
  },
  {
   "cell_type": "code",
   "execution_count": 49,
   "metadata": {},
   "outputs": [
    {
     "name": "stdout",
     "output_type": "stream",
     "text": [
      "Feature shape: (86105, 30)\n",
      "New feature shape: (86105, 15)\n"
     ]
    }
   ],
   "source": [
    "from sklearn.ensemble import RandomForestClassifier\n",
    "from sklearn.feature_selection import SelectFromModel\n",
    "select = SelectFromModel(RandomForestClassifier(n_estimators=300, random_state=42), threshold='median') \n",
    "select.fit(data_feat, data_tg)\n",
    "new_feat = select.transform(data_feat)\n",
    "print(\"Feature shape: {}\".format(data_feat.shape))\n",
    "print(\"New feature shape: {}\".format(new_feat.shape))"
   ]
  },
  {
   "cell_type": "code",
   "execution_count": 50,
   "metadata": {},
   "outputs": [],
   "source": [
    "#Selecting only the featurse from the feature importances and creating a new dataframe with new columns"
   ]
  },
  {
   "cell_type": "code",
   "execution_count": 51,
   "metadata": {},
   "outputs": [],
   "source": [
    "selected_feat= data_feat.columns[(select.get_support())]\n",
    "sel_feat = selected_feat.tolist()"
   ]
  },
  {
   "cell_type": "code",
   "execution_count": 52,
   "metadata": {},
   "outputs": [],
   "source": [
    "new_feat1 = pd.DataFrame(new_feat, columns=sel_feat)"
   ]
  },
  {
   "cell_type": "code",
   "execution_count": 53,
   "metadata": {},
   "outputs": [],
   "source": [
    "#This will be our test dataset for 2018\n",
    "data_18 = pd.DataFrame(data_18,columns = sel_feat)\n"
   ]
  },
  {
   "cell_type": "markdown",
   "metadata": {},
   "source": [
    "Checking the correlation with heatmap"
   ]
  },
  {
   "cell_type": "code",
   "execution_count": 54,
   "metadata": {
    "scrolled": false
   },
   "outputs": [
    {
     "data": {
      "image/png": "[encoded data removed]",
      "text/plain": [
       "<Figure size 720x720 with 2 Axes>"
      ]
     },
     "metadata": {
      "needs_background": "light"
     },
     "output_type": "display_data"
    }
   ],
   "source": [
    "newforcorr = new_feat1.copy()\n",
    "newforcorr['ARR_DELAY'] = data_tg.copy()\n",
    "f, ax = plt.subplots(figsize=(10, 10))\n",
    "ax = sns.heatmap(newforcorr.corr(), vmax=.9, square=True, annot=True)"
   ]
  },
  {
   "cell_type": "markdown",
   "metadata": {},
   "source": [
    "It seems the columns we have created have some importances to our prediction. "
   ]
  },
  {
   "cell_type": "markdown",
   "metadata": {},
   "source": [
    "Now lets move ahead and train our model for the predictions"
   ]
  },
  {
   "cell_type": "markdown",
   "metadata": {},
   "source": [
    "The first model we going to use is gradient boosting."
   ]
  },
  {
   "cell_type": "markdown",
   "metadata": {},
   "source": [
    "### Gradient Boosting Classifier"
   ]
  },
  {
   "cell_type": "code",
   "execution_count": 64,
   "metadata": {},
   "outputs": [],
   "source": [
    "from sklearn.model_selection import train_test_split,KFold,cross_val_score\n",
    "from sklearn.ensemble import GradientBoostingClassifier\n",
    "gbc = GradientBoostingClassifier(learning_rate = 0.2, n_estimators = 400, max_depth = 6, random_state = 42)\n"
   ]
  },
  {
   "cell_type": "code",
   "execution_count": 65,
   "metadata": {},
   "outputs": [
    {
     "name": "stdout",
     "output_type": "stream",
     "text": [
      "Cross-validation scores - mean: 0.7422681609662621\n",
      "Training Accuracy : 0.7778275513082142\n",
      "Testing Accuracy : 0.7464385258593992\n",
      "[[13596  2549]\n",
      " [ 4001  5686]]\n",
      "              precision    recall  f1-score   support\n",
      "\n",
      "           0       0.77      0.84      0.81     16145\n",
      "           1       0.69      0.59      0.63      9687\n",
      "\n",
      "    accuracy                           0.75     25832\n",
      "   macro avg       0.73      0.71      0.72     25832\n",
      "weighted avg       0.74      0.75      0.74     25832\n",
      "\n"
     ]
    },
    {
     "data": {
      "image/png": "[encoded data removed]",
      "text/plain": [
       "<Figure size 432x432 with 2 Axes>"
      ]
     },
     "metadata": {
      "needs_background": "light"
     },
     "output_type": "display_data"
    }
   ],
   "source": [
    "from sklearn.metrics import confusion_matrix,classification_report\n",
    "\n",
    "Xtrain2, Xtest2, ytrain2, ytest2 = train_test_split(new_feat1, data_tg, test_size = 0.3, stratify = data_tg,\\\n",
    "                                                        random_state = 42)\n",
    "\n",
    "\n",
    "kfold = KFold(n_splits=5, shuffle=True, random_state=42)\n",
    "scores = cross_val_score(gbc, new_feat1, data_tg, cv=kfold)\n",
    "\n",
    "print(\"Cross-validation scores - mean: {}\".format(scores.mean()))\n",
    "\n",
    "\n",
    "gbc.fit(Xtrain2, ytrain2)\n",
    "ypred = gbc.predict(Xtest2)\n",
    "\n",
    "# evaluating the model\n",
    "print(\"Training Accuracy :\", gbc.score(Xtrain2, ytrain2))\n",
    "print(\"Testing Accuracy :\", gbc.score(Xtest2, ytest2))\n",
    "\n",
    "# confusion matrix\n",
    "cm = confusion_matrix(ytest2, ypred)\n",
    "plt.rcParams['figure.figsize'] = (6, 6)\n",
    "sns.heatmap(cm ,annot = True)\n",
    "print(cm)\n",
    "# classification report\n",
    "cr = classification_report(ytest2, ypred)\n",
    "print(cr)"
   ]
  },
  {
   "cell_type": "markdown",
   "metadata": {},
   "source": [
    "Even if it takes a longer time to train on larger datasets, its accuracy, precision, sensitivity and F2 score is moderate."
   ]
  },
  {
   "cell_type": "markdown",
   "metadata": {},
   "source": [
    "### Now lets check our gradient boost classifier on test set"
   ]
  },
  {
   "cell_type": "code",
   "execution_count": 66,
   "metadata": {},
   "outputs": [],
   "source": [
    "new_y1 = gbc.predict(data_18)"
   ]
  },
  {
   "cell_type": "code",
   "execution_count": 67,
   "metadata": {
    "scrolled": false
   },
   "outputs": [
    {
     "name": "stdout",
     "output_type": "stream",
     "text": [
      "[[14440 35664]\n",
      " [ 3542 10247]]\n",
      "              precision    recall  f1-score   support\n",
      "\n",
      "           0       0.80      0.29      0.42     50104\n",
      "           1       0.22      0.74      0.34     13789\n",
      "\n",
      "    accuracy                           0.39     63893\n",
      "   macro avg       0.51      0.52      0.38     63893\n",
      "weighted avg       0.68      0.39      0.41     63893\n",
      "\n"
     ]
    },
    {
     "data": {
      "image/png": "[encoded data removed]",
      "text/plain": [
       "<Figure size 432x432 with 2 Axes>"
      ]
     },
     "metadata": {
      "needs_background": "light"
     },
     "output_type": "display_data"
    }
   ],
   "source": [
    "cm = confusion_matrix(target_18, new_y1)\n",
    "plt.rcParams['figure.figsize'] = (6, 6)\n",
    "sns.heatmap(cm ,annot = True)\n",
    "print(cm)\n",
    "# classification report\n",
    "cr = classification_report(target_18, new_y1)\n",
    "print(cr)"
   ]
  },
  {
   "cell_type": "markdown",
   "metadata": {},
   "source": [
    "When I tested my unseen dataset on the gradint boost, the performance of the model was not good. It misclassified most of the unseen data classes. \n",
    "One reason being, it trained on the oversampled dataset which is causing it to attain less performace on unseendata which has huge class imbalance"
   ]
  },
  {
   "cell_type": "markdown",
   "metadata": {},
   "source": [
    "Next we moved on to the next model which is MLP classifier. It operates on Neural network and is known to yeild good performance for complex datasets"
   ]
  },
  {
   "cell_type": "markdown",
   "metadata": {},
   "source": [
    "#### MLP Classifier"
   ]
  },
  {
   "cell_type": "code",
   "execution_count": 68,
   "metadata": {},
   "outputs": [],
   "source": [
    "from sklearn.neural_network import MLPClassifier"
   ]
  },
  {
   "cell_type": "code",
   "execution_count": 69,
   "metadata": {},
   "outputs": [],
   "source": [
    "mlp = MLPClassifier(random_state=42, max_iter=1000, warm_start=True)"
   ]
  },
  {
   "cell_type": "code",
   "execution_count": 70,
   "metadata": {},
   "outputs": [
    {
     "name": "stdout",
     "output_type": "stream",
     "text": [
      "Training Accuracy : 0.7125910440827568\n",
      "Testing Accuracy : 0.708578507277795\n",
      "[[13458  2687]\n",
      " [ 4841  4846]]\n",
      "              precision    recall  f1-score   support\n",
      "\n",
      "           0       0.74      0.83      0.78     16145\n",
      "           1       0.64      0.50      0.56      9687\n",
      "\n",
      "    accuracy                           0.71     25832\n",
      "   macro avg       0.69      0.67      0.67     25832\n",
      "weighted avg       0.70      0.71      0.70     25832\n",
      "\n"
     ]
    },
    {
     "data": {
      "image/png": "[encoded data removed]",
      "text/plain": [
       "<Figure size 432x432 with 2 Axes>"
      ]
     },
     "metadata": {
      "needs_background": "light"
     },
     "output_type": "display_data"
    }
   ],
   "source": [
    "Xtrain5, Xtest5, ytrain5, ytest5 = train_test_split(new_feat1, data_tg, test_size = 0.3, stratify = data_tg,\\\n",
    "                                                        random_state = 42)\n",
    "\n",
    "\n",
    "mlp.fit(Xtrain5,ytrain5)\n",
    "ypred5 = mlp.predict(Xtest5)\n",
    "\n",
    "# evaluating the model\n",
    "print(\"Training Accuracy :\", mlp.score(Xtrain5, ytrain5))\n",
    "print(\"Testing Accuracy :\", mlp.score(Xtest5, ytest5))\n",
    "\n",
    "# confusion matrix\n",
    "cm = confusion_matrix(ytest5, ypred5)\n",
    "plt.rcParams['figure.figsize'] = (6, 6)\n",
    "sns.heatmap(cm ,annot = True)\n",
    "print(cm)\n",
    "# classification report\n",
    "cr = classification_report(ytest5, ypred5)\n",
    "print(cr)"
   ]
  },
  {
   "cell_type": "code",
   "execution_count": 71,
   "metadata": {},
   "outputs": [
    {
     "data": {
      "image/png": "[encoded data removed]",
      "text/plain": [
       "<Figure size 432x432 with 1 Axes>"
      ]
     },
     "metadata": {
      "needs_background": "light"
     },
     "output_type": "display_data"
    },
    {
     "data": {
      "text/plain": [
       "<Figure size 576x432 with 0 Axes>"
      ]
     },
     "metadata": {},
     "output_type": "display_data"
    }
   ],
   "source": [
    "from sklearn.metrics import precision_recall_curve\n",
    "precisions, recalls, thresholds = precision_recall_curve(ytest5, ypred5)\n",
    "def plot_precision_vs_recall(precisions, recalls):\n",
    "    plt.plot(recalls, precisions, \"b-\", linewidth=2)\n",
    "    plt.ylabel(\"Precision\", fontsize=16)\n",
    "    plt.xlabel(\"Recall\", fontsize=16)\n",
    "    plt.axis([0, 1, 0, 1])      \n",
    "    plt.figure(figsize=(8, 6))\n",
    "plot_precision_vs_recall(precisions, recalls)\n",
    "plt.show()"
   ]
  },
  {
   "cell_type": "markdown",
   "metadata": {},
   "source": [
    "### Check it on Unseen data of 2018"
   ]
  },
  {
   "cell_type": "code",
   "execution_count": 72,
   "metadata": {},
   "outputs": [
    {
     "name": "stdout",
     "output_type": "stream",
     "text": [
      "[[41533  8571]\n",
      " [10718  3071]]\n",
      "              precision    recall  f1-score   support\n",
      "\n",
      "           0       0.79      0.83      0.81     50104\n",
      "           1       0.26      0.22      0.24     13789\n",
      "\n",
      "    accuracy                           0.70     63893\n",
      "   macro avg       0.53      0.53      0.53     63893\n",
      "weighted avg       0.68      0.70      0.69     63893\n",
      "\n"
     ]
    },
    {
     "data": {
      "image/png": "[encoded data removed]",
      "text/plain": [
       "<Figure size 432x432 with 2 Axes>"
      ]
     },
     "metadata": {
      "needs_background": "light"
     },
     "output_type": "display_data"
    }
   ],
   "source": [
    "new_y6 = mlp.predict(data_18)\n",
    "cm = confusion_matrix(target_18, new_y6)\n",
    "plt.rcParams['figure.figsize'] = (6, 6)\n",
    "sns.heatmap(cm ,annot = True)\n",
    "print(cm)\n",
    "# classification report\n",
    "cr = classification_report(target_18, new_y6)\n",
    "print(cr)"
   ]
  },
  {
   "cell_type": "code",
   "execution_count": null,
   "metadata": {},
   "outputs": [],
   "source": []
  },
  {
   "cell_type": "markdown",
   "metadata": {},
   "source": [
    "MLP classifier performed better on unseen dataset of 2018 than gradient boost classifier. But it predicted more Flase negative and because of that the precision, recall and F1 score had suffered. "
   ]
  },
  {
   "cell_type": "code",
   "execution_count": null,
   "metadata": {},
   "outputs": [],
   "source": []
  },
  {
   "cell_type": "markdown",
   "metadata": {},
   "source": [
    "## Stochastic gradient descent classifier"
   ]
  },
  {
   "cell_type": "code",
   "execution_count": 73,
   "metadata": {},
   "outputs": [],
   "source": [
    "from sklearn.linear_model import SGDClassifier"
   ]
  },
  {
   "cell_type": "code",
   "execution_count": 74,
   "metadata": {},
   "outputs": [],
   "source": [
    "sgd = SGDClassifier(loss=\"hinge\", penalty=\"l1\", max_iter=100)"
   ]
  },
  {
   "cell_type": "code",
   "execution_count": 75,
   "metadata": {},
   "outputs": [
    {
     "name": "stdout",
     "output_type": "stream",
     "text": [
      "Training Accuracy : 0.6957509996184029\n",
      "Testing Accuracy : 0.7032750077423351\n",
      "[[13924  2221]\n",
      " [ 5444  4243]]\n",
      "              precision    recall  f1-score   support\n",
      "\n",
      "           0       0.72      0.86      0.78     16145\n",
      "           1       0.66      0.44      0.53      9687\n",
      "\n",
      "    accuracy                           0.70     25832\n",
      "   macro avg       0.69      0.65      0.65     25832\n",
      "weighted avg       0.70      0.70      0.69     25832\n",
      "\n"
     ]
    },
    {
     "data": {
      "image/png": "[encoded data removed]",
      "text/plain": [
       "<Figure size 432x432 with 2 Axes>"
      ]
     },
     "metadata": {
      "needs_background": "light"
     },
     "output_type": "display_data"
    }
   ],
   "source": [
    "Xtrain8, Xtest8, ytrain8, ytest8 = train_test_split(new_feat1, data_tg, test_size = 0.3, stratify = data_tg,\\\n",
    "                                                        random_state = 42)\n",
    "\n",
    "\n",
    "sgd.fit(Xtrain8,ytrain8)\n",
    "ypred8 = sgd.predict(Xtest8)\n",
    "\n",
    "# evaluating the model\n",
    "print(\"Training Accuracy :\", sgd.score(Xtrain8, ytrain8))\n",
    "print(\"Testing Accuracy :\", sgd.score(Xtest8, ytest8))\n",
    "\n",
    "# confusion matrix\n",
    "cm = confusion_matrix(ytest8, ypred8)\n",
    "plt.rcParams['figure.figsize'] = (6, 6)\n",
    "sns.heatmap(cm ,annot = True)\n",
    "print(cm)\n",
    "# classification report\n",
    "cr = classification_report(ytest8, ypred8)\n",
    "print(cr)"
   ]
  },
  {
   "cell_type": "markdown",
   "metadata": {},
   "source": [
    "### Checking on the unseen Dataset of 2018"
   ]
  },
  {
   "cell_type": "code",
   "execution_count": 76,
   "metadata": {},
   "outputs": [
    {
     "name": "stdout",
     "output_type": "stream",
     "text": [
      "[[42949  7155]\n",
      " [11637  2152]]\n",
      "              precision    recall  f1-score   support\n",
      "\n",
      "           0       0.79      0.86      0.82     50104\n",
      "           1       0.23      0.16      0.19     13789\n",
      "\n",
      "    accuracy                           0.71     63893\n",
      "   macro avg       0.51      0.51      0.50     63893\n",
      "weighted avg       0.67      0.71      0.68     63893\n",
      "\n"
     ]
    },
    {
     "data": {
      "image/png": "[encoded data removed]",
      "text/plain": [
       "<Figure size 432x432 with 2 Axes>"
      ]
     },
     "metadata": {
      "needs_background": "light"
     },
     "output_type": "display_data"
    }
   ],
   "source": [
    "new_y8 = sgd.predict(data_18)\n",
    "cm = confusion_matrix(target_18, new_y8)\n",
    "plt.rcParams['figure.figsize'] = (6, 6)\n",
    "sns.heatmap(cm ,annot = True)\n",
    "print(cm)\n",
    "# classification report\n",
    "cr = classification_report(target_18, new_y8)\n",
    "print(cr)"
   ]
  },
  {
   "cell_type": "markdown",
   "metadata": {},
   "source": [
    "The performace of SGD on unseen dataset is poor that both models. It suffered a blow in precision, recall and F1 score"
   ]
  },
  {
   "cell_type": "markdown",
   "metadata": {},
   "source": [
    "Concluding Remark :"
   ]
  },
  {
   "cell_type": "markdown",
   "metadata": {},
   "source": [
    "So far, MLP classifier had performed better than other two models we used. More fine tuning and feature engineerinng will yeild better results than we got.\n",
    "\n",
    "My suggestion would be to use MLP classifier to detect the arriving delay of the flights with the limited number of columns which we considered from a consumer perspective.\n",
    "\n",
    "Also, there would always be a factor of uncertainty in predicting a flight delay for next year as some external factors other than what we consider for our analysis might have impact on the flight delay."
   ]
  },
  {
   "cell_type": "markdown",
   "metadata": {},
   "source": [
    "## Thank You !!!"
   ]
  },
  {
   "cell_type": "code",
   "execution_count": null,
   "metadata": {},
   "outputs": [],
   "source": []
  }
 ],
 "metadata": {
  "kernelspec": {
   "display_name": "Python 3",
   "language": "python",
   "name": "python3"
  },
  "language_info": {
   "codemirror_mode": {
    "name": "ipython",
    "version": 3
   },
   "file_extension": ".py",
   "mimetype": "text/x-python",
   "name": "python",
   "nbconvert_exporter": "python",
   "pygments_lexer": "ipython3",
   "version": "3.7.4"
  }
 },
 "nbformat": 4,
 "nbformat_minor": 2
}
